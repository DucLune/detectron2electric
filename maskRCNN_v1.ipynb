{
 "cells": [
  {
   "cell_type": "code",
   "execution_count": 1,
   "metadata": {
    "colab": {
     "base_uri": "https://localhost:8080/"
    },
    "id": "xz8KIETeQowm",
    "outputId": "4bb9ee47-485a-4e56-c596-a3f210eb996b"
   },
   "outputs": [
    {
     "name": "stdout",
     "output_type": "stream",
     "text": [
      "torch:  1.8 ; cuda:  cu111\n"
     ]
    }
   ],
   "source": [
    "#!pip install pyyaml==5.1\n",
    "#!pip install labelme\n",
    "import torch\n",
    "TORCH_VERSION = \".\".join(torch.__version__.split(\".\")[:2])\n",
    "CUDA_VERSION = torch.__version__.split(\"+\")[-1]\n",
    "print(\"torch: \", TORCH_VERSION, \"; cuda: \", CUDA_VERSION)\n",
    "# Install detectron2 that matches the above pytorch version\n",
    "# See https://detectron2.readthedocs.io/tutorials/install.html for instructions\n",
    "#!pip install detectron2 -f https://dl.fbaipublicfiles.com/detectron2/wheels/$CUDA_VERSION/torch$TORCH_VERSION/index.html"
   ]
  },
  {
   "cell_type": "code",
   "execution_count": 2,
   "metadata": {
    "id": "-r6wyJKVQQrH"
   },
   "outputs": [],
   "source": [
    "# import some common libraries\n",
    "import random\n",
    "import cv2\n",
    "import json\n",
    "import os\n",
    "import numpy as np\n",
    "import argparse\n",
    "import torch\n",
    "import detectron2\n",
    "import glob\n",
    "# import some common detectron2 utilities\n",
    "from detectron2.engine import DefaultTrainer\n",
    "from detectron2.data.datasets import pascal_voc, register_coco_instances\n",
    "from detectron2.data import MetadataCatalog, DatasetCatalog\n",
    "from detectron2.utils.visualizer import Visualizer\n",
    "from detectron2.config import get_cfg\n",
    "from detectron2.engine import DefaultPredictor\n",
    "from detectron2 import model_zoo\n",
    "from detectron2.data import build_detection_test_loader\n",
    "from detectron2.evaluation import COCOEvaluator, inference_on_dataset, PascalVOCDetectionEvaluator\n",
    "from detectron2.utils.file_io import PathManager\n",
    "from detectron2.utils.logger import setup_logger\n"
   ]
  },
  {
   "cell_type": "code",
   "execution_count": 3,
   "metadata": {
    "colab": {
     "base_uri": "https://localhost:8080/"
    },
    "id": "87mFN4gmQ6LS",
    "outputId": "1d213b51-da0e-4eaa-ebc5-9c0e21761e18"
   },
   "outputs": [],
   "source": [
    "# 准备数据集合训练代码\n",
    "#!rm -r detectron2electric/\n",
    "#!git clone https://github.com/DucLune/detectron2electric.git\n",
    "#!cp /content/detectron2electric/traincode/* ./ -rf"
   ]
  },
  {
   "cell_type": "code",
   "execution_count": 4,
   "metadata": {
    "id": "4iFlrq4iQQrK"
   },
   "outputs": [
    {
     "name": "stdout",
     "output_type": "stream",
     "text": [
      "setting woring path to :/root/public_data/ElectricalComponent-MaskRCNN/detectron2electric\n"
     ]
    }
   ],
   "source": [
    "# Some basic setup:\n",
    "# Setup detectron2 logger\n",
    "setup_logger()\n",
    "\n",
    "# 创建解析\n",
    "parser = argparse.ArgumentParser(\n",
    "    description=\"detectron2 demo\", formatter_class=argparse.ArgumentDefaultsHelpFormatter)\n",
    "# 添加参数\n",
    "# 使用Cloab等平台时请注意设置正确的root_dir为detectron2electric的路径\n",
    "parser.add_argument('--root_dir', type=str,\n",
    "                    default=\"/root/public_data/ElectricalComponent-MaskRCNN/detectron2electric\")\n",
    "parser.add_argument('--train_url', type=str,\n",
    "                    default=\"model\", help='the path model saved')\n",
    "parser.add_argument('--dataset', type=str, default='coco',\n",
    "                    help='the dataset dirname')\n",
    "parser.add_argument('--device', type=str, default='cuda',\n",
    "                    help='the training device')\n",
    "parser.add_argument('--num_classes', type=int, default=3,\n",
    "                    help='cfg.MODEL.ROI_HEADS.NUM_CLASSES ')\n",
    "\n",
    "# 解析参数\n",
    "args, unkown = parser.parse_known_args()\n",
    "os.chdir(args.root_dir)\n",
    "print(\"setting woring path to :\"+os.getcwd())\n",
    "from util import pictureUtils\n",
    "pictureUtils.buildCocoDataset(\"Annotations\",os.path.join(args.dataset),[\"glue\",\"injection_hole\",\"pin_glue\"],0.7,0.3,0)\n",
    "register_coco_instances(\"mydataset_train\", {}, os.path.join(args.dataset,\"annotations\",\"train.json\"),\"SmallJPGImages\")\n",
    "register_coco_instances(\"mydataset_val\", {}, os.path.join(args.dataset,\"annotations\",\"val.json\"),\"SmallJPGImages\" )"
   ]
  },
  {
   "cell_type": "code",
   "execution_count": 5,
   "metadata": {
    "colab": {
     "base_uri": "https://localhost:8080/",
     "height": 1000
    },
    "id": "3mPkhXMJQQrM",
    "outputId": "43ee329f-4b6c-4456-a5ab-64e5004eb806"
   },
   "outputs": [
    {
     "name": "stderr",
     "output_type": "stream",
     "text": [
      "[\u001b[1m\u001b[37mINFO   \u001b[0m] \u001b[36mdefaults\u001b[0m:\u001b[36mbuild_model\u001b[0m:\u001b[36m507\u001b[0m - \u001b[1m\u001b[37mModel:\n",
      "GeneralizedRCNN(\n",
      "  (backbone): FPN(\n",
      "    (fpn_lateral2): Conv2d(256, 256, kernel_size=(1, 1), stride=(1, 1))\n",
      "    (fpn_output2): Conv2d(256, 256, kernel_size=(3, 3), stride=(1, 1), padding=(1, 1))\n",
      "    (fpn_lateral3): Conv2d(512, 256, kernel_size=(1, 1), stride=(1, 1))\n",
      "    (fpn_output3): Conv2d(256, 256, kernel_size=(3, 3), stride=(1, 1), padding=(1, 1))\n",
      "    (fpn_lateral4): Conv2d(1024, 256, kernel_size=(1, 1), stride=(1, 1))\n",
      "    (fpn_output4): Conv2d(256, 256, kernel_size=(3, 3), stride=(1, 1), padding=(1, 1))\n",
      "    (fpn_lateral5): Conv2d(2048, 256, kernel_size=(1, 1), stride=(1, 1))\n",
      "    (fpn_output5): Conv2d(256, 256, kernel_size=(3, 3), stride=(1, 1), padding=(1, 1))\n",
      "    (top_block): LastLevelMaxPool()\n",
      "    (bottom_up): ResNet(\n",
      "      (stem): BasicStem(\n",
      "        (conv1): Conv2d(\n",
      "          3, 64, kernel_size=(7, 7), stride=(2, 2), padding=(3, 3), bias=False\n",
      "          (norm): FrozenBatchNorm2d(num_features=64, eps=1e-05)\n",
      "        )\n",
      "      )\n",
      "      (res2): Sequential(\n",
      "        (0): BottleneckBlock(\n",
      "          (shortcut): Conv2d(\n",
      "            64, 256, kernel_size=(1, 1), stride=(1, 1), bias=False\n",
      "            (norm): FrozenBatchNorm2d(num_features=256, eps=1e-05)\n",
      "          )\n",
      "          (conv1): Conv2d(\n",
      "            64, 64, kernel_size=(1, 1), stride=(1, 1), bias=False\n",
      "            (norm): FrozenBatchNorm2d(num_features=64, eps=1e-05)\n",
      "          )\n",
      "          (conv2): Conv2d(\n",
      "            64, 64, kernel_size=(3, 3), stride=(1, 1), padding=(1, 1), bias=False\n",
      "            (norm): FrozenBatchNorm2d(num_features=64, eps=1e-05)\n",
      "          )\n",
      "          (conv3): Conv2d(\n",
      "            64, 256, kernel_size=(1, 1), stride=(1, 1), bias=False\n",
      "            (norm): FrozenBatchNorm2d(num_features=256, eps=1e-05)\n",
      "          )\n",
      "        )\n",
      "        (1): BottleneckBlock(\n",
      "          (conv1): Conv2d(\n",
      "            256, 64, kernel_size=(1, 1), stride=(1, 1), bias=False\n",
      "            (norm): FrozenBatchNorm2d(num_features=64, eps=1e-05)\n",
      "          )\n",
      "          (conv2): Conv2d(\n",
      "            64, 64, kernel_size=(3, 3), stride=(1, 1), padding=(1, 1), bias=False\n",
      "            (norm): FrozenBatchNorm2d(num_features=64, eps=1e-05)\n",
      "          )\n",
      "          (conv3): Conv2d(\n",
      "            64, 256, kernel_size=(1, 1), stride=(1, 1), bias=False\n",
      "            (norm): FrozenBatchNorm2d(num_features=256, eps=1e-05)\n",
      "          )\n",
      "        )\n",
      "        (2): BottleneckBlock(\n",
      "          (conv1): Conv2d(\n",
      "            256, 64, kernel_size=(1, 1), stride=(1, 1), bias=False\n",
      "            (norm): FrozenBatchNorm2d(num_features=64, eps=1e-05)\n",
      "          )\n",
      "          (conv2): Conv2d(\n",
      "            64, 64, kernel_size=(3, 3), stride=(1, 1), padding=(1, 1), bias=False\n",
      "            (norm): FrozenBatchNorm2d(num_features=64, eps=1e-05)\n",
      "          )\n",
      "          (conv3): Conv2d(\n",
      "            64, 256, kernel_size=(1, 1), stride=(1, 1), bias=False\n",
      "            (norm): FrozenBatchNorm2d(num_features=256, eps=1e-05)\n",
      "          )\n",
      "        )\n",
      "      )\n",
      "      (res3): Sequential(\n",
      "        (0): BottleneckBlock(\n",
      "          (shortcut): Conv2d(\n",
      "            256, 512, kernel_size=(1, 1), stride=(2, 2), bias=False\n",
      "            (norm): FrozenBatchNorm2d(num_features=512, eps=1e-05)\n",
      "          )\n",
      "          (conv1): Conv2d(\n",
      "            256, 128, kernel_size=(1, 1), stride=(2, 2), bias=False\n",
      "            (norm): FrozenBatchNorm2d(num_features=128, eps=1e-05)\n",
      "          )\n",
      "          (conv2): Conv2d(\n",
      "            128, 128, kernel_size=(3, 3), stride=(1, 1), padding=(1, 1), bias=False\n",
      "            (norm): FrozenBatchNorm2d(num_features=128, eps=1e-05)\n",
      "          )\n",
      "          (conv3): Conv2d(\n",
      "            128, 512, kernel_size=(1, 1), stride=(1, 1), bias=False\n",
      "            (norm): FrozenBatchNorm2d(num_features=512, eps=1e-05)\n",
      "          )\n",
      "        )\n",
      "        (1): BottleneckBlock(\n",
      "          (conv1): Conv2d(\n",
      "            512, 128, kernel_size=(1, 1), stride=(1, 1), bias=False\n",
      "            (norm): FrozenBatchNorm2d(num_features=128, eps=1e-05)\n",
      "          )\n",
      "          (conv2): Conv2d(\n",
      "            128, 128, kernel_size=(3, 3), stride=(1, 1), padding=(1, 1), bias=False\n",
      "            (norm): FrozenBatchNorm2d(num_features=128, eps=1e-05)\n",
      "          )\n",
      "          (conv3): Conv2d(\n",
      "            128, 512, kernel_size=(1, 1), stride=(1, 1), bias=False\n",
      "            (norm): FrozenBatchNorm2d(num_features=512, eps=1e-05)\n",
      "          )\n",
      "        )\n",
      "        (2): BottleneckBlock(\n",
      "          (conv1): Conv2d(\n",
      "            512, 128, kernel_size=(1, 1), stride=(1, 1), bias=False\n",
      "            (norm): FrozenBatchNorm2d(num_features=128, eps=1e-05)\n",
      "          )\n",
      "          (conv2): Conv2d(\n",
      "            128, 128, kernel_size=(3, 3), stride=(1, 1), padding=(1, 1), bias=False\n",
      "            (norm): FrozenBatchNorm2d(num_features=128, eps=1e-05)\n",
      "          )\n",
      "          (conv3): Conv2d(\n",
      "            128, 512, kernel_size=(1, 1), stride=(1, 1), bias=False\n",
      "            (norm): FrozenBatchNorm2d(num_features=512, eps=1e-05)\n",
      "          )\n",
      "        )\n",
      "        (3): BottleneckBlock(\n",
      "          (conv1): Conv2d(\n",
      "            512, 128, kernel_size=(1, 1), stride=(1, 1), bias=False\n",
      "            (norm): FrozenBatchNorm2d(num_features=128, eps=1e-05)\n",
      "          )\n",
      "          (conv2): Conv2d(\n",
      "            128, 128, kernel_size=(3, 3), stride=(1, 1), padding=(1, 1), bias=False\n",
      "            (norm): FrozenBatchNorm2d(num_features=128, eps=1e-05)\n",
      "          )\n",
      "          (conv3): Conv2d(\n",
      "            128, 512, kernel_size=(1, 1), stride=(1, 1), bias=False\n",
      "            (norm): FrozenBatchNorm2d(num_features=512, eps=1e-05)\n",
      "          )\n",
      "        )\n",
      "      )\n",
      "      (res4): Sequential(\n",
      "        (0): BottleneckBlock(\n",
      "          (shortcut): Conv2d(\n",
      "            512, 1024, kernel_size=(1, 1), stride=(2, 2), bias=False\n",
      "            (norm): FrozenBatchNorm2d(num_features=1024, eps=1e-05)\n",
      "          )\n",
      "          (conv1): Conv2d(\n",
      "            512, 256, kernel_size=(1, 1), stride=(2, 2), bias=False\n",
      "            (norm): FrozenBatchNorm2d(num_features=256, eps=1e-05)\n",
      "          )\n",
      "          (conv2): Conv2d(\n",
      "            256, 256, kernel_size=(3, 3), stride=(1, 1), padding=(1, 1), bias=False\n",
      "            (norm): FrozenBatchNorm2d(num_features=256, eps=1e-05)\n",
      "          )\n",
      "          (conv3): Conv2d(\n",
      "            256, 1024, kernel_size=(1, 1), stride=(1, 1), bias=False\n",
      "            (norm): FrozenBatchNorm2d(num_features=1024, eps=1e-05)\n",
      "          )\n",
      "        )\n",
      "        (1): BottleneckBlock(\n",
      "          (conv1): Conv2d(\n",
      "            1024, 256, kernel_size=(1, 1), stride=(1, 1), bias=False\n",
      "            (norm): FrozenBatchNorm2d(num_features=256, eps=1e-05)\n",
      "          )\n",
      "          (conv2): Conv2d(\n",
      "            256, 256, kernel_size=(3, 3), stride=(1, 1), padding=(1, 1), bias=False\n",
      "            (norm): FrozenBatchNorm2d(num_features=256, eps=1e-05)\n",
      "          )\n",
      "          (conv3): Conv2d(\n",
      "            256, 1024, kernel_size=(1, 1), stride=(1, 1), bias=False\n",
      "            (norm): FrozenBatchNorm2d(num_features=1024, eps=1e-05)\n",
      "          )\n",
      "        )\n",
      "        (2): BottleneckBlock(\n",
      "          (conv1): Conv2d(\n",
      "            1024, 256, kernel_size=(1, 1), stride=(1, 1), bias=False\n",
      "            (norm): FrozenBatchNorm2d(num_features=256, eps=1e-05)\n",
      "          )\n",
      "          (conv2): Conv2d(\n",
      "            256, 256, kernel_size=(3, 3), stride=(1, 1), padding=(1, 1), bias=False\n",
      "            (norm): FrozenBatchNorm2d(num_features=256, eps=1e-05)\n",
      "          )\n",
      "          (conv3): Conv2d(\n",
      "            256, 1024, kernel_size=(1, 1), stride=(1, 1), bias=False\n",
      "            (norm): FrozenBatchNorm2d(num_features=1024, eps=1e-05)\n",
      "          )\n",
      "        )\n",
      "        (3): BottleneckBlock(\n",
      "          (conv1): Conv2d(\n",
      "            1024, 256, kernel_size=(1, 1), stride=(1, 1), bias=False\n",
      "            (norm): FrozenBatchNorm2d(num_features=256, eps=1e-05)\n",
      "          )\n",
      "          (conv2): Conv2d(\n",
      "            256, 256, kernel_size=(3, 3), stride=(1, 1), padding=(1, 1), bias=False\n",
      "            (norm): FrozenBatchNorm2d(num_features=256, eps=1e-05)\n",
      "          )\n",
      "          (conv3): Conv2d(\n",
      "            256, 1024, kernel_size=(1, 1), stride=(1, 1), bias=False\n",
      "            (norm): FrozenBatchNorm2d(num_features=1024, eps=1e-05)\n",
      "          )\n",
      "        )\n",
      "        (4): BottleneckBlock(\n",
      "          (conv1): Conv2d(\n",
      "            1024, 256, kernel_size=(1, 1), stride=(1, 1), bias=False\n",
      "            (norm): FrozenBatchNorm2d(num_features=256, eps=1e-05)\n",
      "          )\n",
      "          (conv2): Conv2d(\n",
      "            256, 256, kernel_size=(3, 3), stride=(1, 1), padding=(1, 1), bias=False\n",
      "            (norm): FrozenBatchNorm2d(num_features=256, eps=1e-05)\n",
      "          )\n",
      "          (conv3): Conv2d(\n",
      "            256, 1024, kernel_size=(1, 1), stride=(1, 1), bias=False\n",
      "            (norm): FrozenBatchNorm2d(num_features=1024, eps=1e-05)\n",
      "          )\n",
      "        )\n",
      "        (5): BottleneckBlock(\n",
      "          (conv1): Conv2d(\n",
      "            1024, 256, kernel_size=(1, 1), stride=(1, 1), bias=False\n",
      "            (norm): FrozenBatchNorm2d(num_features=256, eps=1e-05)\n",
      "          )\n",
      "          (conv2): Conv2d(\n",
      "            256, 256, kernel_size=(3, 3), stride=(1, 1), padding=(1, 1), bias=False\n",
      "            (norm): FrozenBatchNorm2d(num_features=256, eps=1e-05)\n",
      "          )\n",
      "          (conv3): Conv2d(\n",
      "            256, 1024, kernel_size=(1, 1), stride=(1, 1), bias=False\n",
      "            (norm): FrozenBatchNorm2d(num_features=1024, eps=1e-05)\n",
      "          )\n",
      "        )\n",
      "        (6): BottleneckBlock(\n",
      "          (conv1): Conv2d(\n",
      "            1024, 256, kernel_size=(1, 1), stride=(1, 1), bias=False\n",
      "            (norm): FrozenBatchNorm2d(num_features=256, eps=1e-05)\n",
      "          )\n",
      "          (conv2): Conv2d(\n",
      "            256, 256, kernel_size=(3, 3), stride=(1, 1), padding=(1, 1), bias=False\n",
      "            (norm): FrozenBatchNorm2d(num_features=256, eps=1e-05)\n",
      "          )\n",
      "          (conv3): Conv2d(\n",
      "            256, 1024, kernel_size=(1, 1), stride=(1, 1), bias=False\n",
      "            (norm): FrozenBatchNorm2d(num_features=1024, eps=1e-05)\n",
      "          )\n",
      "        )\n",
      "        (7): BottleneckBlock(\n",
      "          (conv1): Conv2d(\n",
      "            1024, 256, kernel_size=(1, 1), stride=(1, 1), bias=False\n",
      "            (norm): FrozenBatchNorm2d(num_features=256, eps=1e-05)\n",
      "          )\n",
      "          (conv2): Conv2d(\n",
      "            256, 256, kernel_size=(3, 3), stride=(1, 1), padding=(1, 1), bias=False\n",
      "            (norm): FrozenBatchNorm2d(num_features=256, eps=1e-05)\n",
      "          )\n",
      "          (conv3): Conv2d(\n",
      "            256, 1024, kernel_size=(1, 1), stride=(1, 1), bias=False\n",
      "            (norm): FrozenBatchNorm2d(num_features=1024, eps=1e-05)\n",
      "          )\n",
      "        )\n",
      "        (8): BottleneckBlock(\n",
      "          (conv1): Conv2d(\n",
      "            1024, 256, kernel_size=(1, 1), stride=(1, 1), bias=False\n",
      "            (norm): FrozenBatchNorm2d(num_features=256, eps=1e-05)\n",
      "          )\n",
      "          (conv2): Conv2d(\n",
      "            256, 256, kernel_size=(3, 3), stride=(1, 1), padding=(1, 1), bias=False\n",
      "            (norm): FrozenBatchNorm2d(num_features=256, eps=1e-05)\n",
      "          )\n",
      "          (conv3): Conv2d(\n",
      "            256, 1024, kernel_size=(1, 1), stride=(1, 1), bias=False\n",
      "            (norm): FrozenBatchNorm2d(num_features=1024, eps=1e-05)\n",
      "          )\n",
      "        )\n",
      "        (9): BottleneckBlock(\n",
      "          (conv1): Conv2d(\n",
      "            1024, 256, kernel_size=(1, 1), stride=(1, 1), bias=False\n",
      "            (norm): FrozenBatchNorm2d(num_features=256, eps=1e-05)\n",
      "          )\n",
      "          (conv2): Conv2d(\n",
      "            256, 256, kernel_size=(3, 3), stride=(1, 1), padding=(1, 1), bias=False\n",
      "            (norm): FrozenBatchNorm2d(num_features=256, eps=1e-05)\n",
      "          )\n",
      "          (conv3): Conv2d(\n",
      "            256, 1024, kernel_size=(1, 1), stride=(1, 1), bias=False\n",
      "            (norm): FrozenBatchNorm2d(num_features=1024, eps=1e-05)\n",
      "          )\n",
      "        )\n",
      "        (10): BottleneckBlock(\n",
      "          (conv1): Conv2d(\n",
      "            1024, 256, kernel_size=(1, 1), stride=(1, 1), bias=False\n",
      "            (norm): FrozenBatchNorm2d(num_features=256, eps=1e-05)\n",
      "          )\n",
      "          (conv2): Conv2d(\n",
      "            256, 256, kernel_size=(3, 3), stride=(1, 1), padding=(1, 1), bias=False\n",
      "            (norm): FrozenBatchNorm2d(num_features=256, eps=1e-05)\n",
      "          )\n",
      "          (conv3): Conv2d(\n",
      "            256, 1024, kernel_size=(1, 1), stride=(1, 1), bias=False\n",
      "            (norm): FrozenBatchNorm2d(num_features=1024, eps=1e-05)\n",
      "          )\n",
      "        )\n",
      "        (11): BottleneckBlock(\n",
      "          (conv1): Conv2d(\n",
      "            1024, 256, kernel_size=(1, 1), stride=(1, 1), bias=False\n",
      "            (norm): FrozenBatchNorm2d(num_features=256, eps=1e-05)\n",
      "          )\n",
      "          (conv2): Conv2d(\n",
      "            256, 256, kernel_size=(3, 3), stride=(1, 1), padding=(1, 1), bias=False\n",
      "            (norm): FrozenBatchNorm2d(num_features=256, eps=1e-05)\n",
      "          )\n",
      "          (conv3): Conv2d(\n",
      "            256, 1024, kernel_size=(1, 1), stride=(1, 1), bias=False\n",
      "            (norm): FrozenBatchNorm2d(num_features=1024, eps=1e-05)\n",
      "          )\n",
      "        )\n",
      "        (12): BottleneckBlock(\n",
      "          (conv1): Conv2d(\n",
      "            1024, 256, kernel_size=(1, 1), stride=(1, 1), bias=False\n",
      "            (norm): FrozenBatchNorm2d(num_features=256, eps=1e-05)\n",
      "          )\n",
      "          (conv2): Conv2d(\n",
      "            256, 256, kernel_size=(3, 3), stride=(1, 1), padding=(1, 1), bias=False\n",
      "            (norm): FrozenBatchNorm2d(num_features=256, eps=1e-05)\n",
      "          )\n",
      "          (conv3): Conv2d(\n",
      "            256, 1024, kernel_size=(1, 1), stride=(1, 1), bias=False\n",
      "            (norm): FrozenBatchNorm2d(num_features=1024, eps=1e-05)\n",
      "          )\n",
      "        )\n",
      "        (13): BottleneckBlock(\n",
      "          (conv1): Conv2d(\n",
      "            1024, 256, kernel_size=(1, 1), stride=(1, 1), bias=False\n",
      "            (norm): FrozenBatchNorm2d(num_features=256, eps=1e-05)\n",
      "          )\n",
      "          (conv2): Conv2d(\n",
      "            256, 256, kernel_size=(3, 3), stride=(1, 1), padding=(1, 1), bias=False\n",
      "            (norm): FrozenBatchNorm2d(num_features=256, eps=1e-05)\n",
      "          )\n",
      "          (conv3): Conv2d(\n",
      "            256, 1024, kernel_size=(1, 1), stride=(1, 1), bias=False\n",
      "            (norm): FrozenBatchNorm2d(num_features=1024, eps=1e-05)\n",
      "          )\n",
      "        )\n",
      "        (14): BottleneckBlock(\n",
      "          (conv1): Conv2d(\n",
      "            1024, 256, kernel_size=(1, 1), stride=(1, 1), bias=False\n",
      "            (norm): FrozenBatchNorm2d(num_features=256, eps=1e-05)\n",
      "          )\n",
      "          (conv2): Conv2d(\n",
      "            256, 256, kernel_size=(3, 3), stride=(1, 1), padding=(1, 1), bias=False\n",
      "            (norm): FrozenBatchNorm2d(num_features=256, eps=1e-05)\n",
      "          )\n",
      "          (conv3): Conv2d(\n",
      "            256, 1024, kernel_size=(1, 1), stride=(1, 1), bias=False\n",
      "            (norm): FrozenBatchNorm2d(num_features=1024, eps=1e-05)\n",
      "          )\n",
      "        )\n",
      "        (15): BottleneckBlock(\n",
      "          (conv1): Conv2d(\n",
      "            1024, 256, kernel_size=(1, 1), stride=(1, 1), bias=False\n",
      "            (norm): FrozenBatchNorm2d(num_features=256, eps=1e-05)\n",
      "          )\n",
      "          (conv2): Conv2d(\n",
      "            256, 256, kernel_size=(3, 3), stride=(1, 1), padding=(1, 1), bias=False\n",
      "            (norm): FrozenBatchNorm2d(num_features=256, eps=1e-05)\n",
      "          )\n",
      "          (conv3): Conv2d(\n",
      "            256, 1024, kernel_size=(1, 1), stride=(1, 1), bias=False\n",
      "            (norm): FrozenBatchNorm2d(num_features=1024, eps=1e-05)\n",
      "          )\n",
      "        )\n",
      "        (16): BottleneckBlock(\n",
      "          (conv1): Conv2d(\n",
      "            1024, 256, kernel_size=(1, 1), stride=(1, 1), bias=False\n",
      "            (norm): FrozenBatchNorm2d(num_features=256, eps=1e-05)\n",
      "          )\n",
      "          (conv2): Conv2d(\n",
      "            256, 256, kernel_size=(3, 3), stride=(1, 1), padding=(1, 1), bias=False\n",
      "            (norm): FrozenBatchNorm2d(num_features=256, eps=1e-05)\n",
      "          )\n",
      "          (conv3): Conv2d(\n",
      "            256, 1024, kernel_size=(1, 1), stride=(1, 1), bias=False\n",
      "            (norm): FrozenBatchNorm2d(num_features=1024, eps=1e-05)\n",
      "          )\n",
      "        )\n",
      "        (17): BottleneckBlock(\n",
      "          (conv1): Conv2d(\n",
      "            1024, 256, kernel_size=(1, 1), stride=(1, 1), bias=False\n",
      "            (norm): FrozenBatchNorm2d(num_features=256, eps=1e-05)\n",
      "          )\n",
      "          (conv2): Conv2d(\n",
      "            256, 256, kernel_size=(3, 3), stride=(1, 1), padding=(1, 1), bias=False\n",
      "            (norm): FrozenBatchNorm2d(num_features=256, eps=1e-05)\n",
      "          )\n",
      "          (conv3): Conv2d(\n",
      "            256, 1024, kernel_size=(1, 1), stride=(1, 1), bias=False\n",
      "            (norm): FrozenBatchNorm2d(num_features=1024, eps=1e-05)\n",
      "          )\n",
      "        )\n",
      "        (18): BottleneckBlock(\n",
      "          (conv1): Conv2d(\n",
      "            1024, 256, kernel_size=(1, 1), stride=(1, 1), bias=False\n",
      "            (norm): FrozenBatchNorm2d(num_features=256, eps=1e-05)\n",
      "          )\n",
      "          (conv2): Conv2d(\n",
      "            256, 256, kernel_size=(3, 3), stride=(1, 1), padding=(1, 1), bias=False\n",
      "            (norm): FrozenBatchNorm2d(num_features=256, eps=1e-05)\n",
      "          )\n",
      "          (conv3): Conv2d(\n",
      "            256, 1024, kernel_size=(1, 1), stride=(1, 1), bias=False\n",
      "            (norm): FrozenBatchNorm2d(num_features=1024, eps=1e-05)\n",
      "          )\n",
      "        )\n",
      "        (19): BottleneckBlock(\n",
      "          (conv1): Conv2d(\n",
      "            1024, 256, kernel_size=(1, 1), stride=(1, 1), bias=False\n",
      "            (norm): FrozenBatchNorm2d(num_features=256, eps=1e-05)\n",
      "          )\n",
      "          (conv2): Conv2d(\n",
      "            256, 256, kernel_size=(3, 3), stride=(1, 1), padding=(1, 1), bias=False\n",
      "            (norm): FrozenBatchNorm2d(num_features=256, eps=1e-05)\n",
      "          )\n",
      "          (conv3): Conv2d(\n",
      "            256, 1024, kernel_size=(1, 1), stride=(1, 1), bias=False\n",
      "            (norm): FrozenBatchNorm2d(num_features=1024, eps=1e-05)\n",
      "          )\n",
      "        )\n",
      "        (20): BottleneckBlock(\n",
      "          (conv1): Conv2d(\n",
      "            1024, 256, kernel_size=(1, 1), stride=(1, 1), bias=False\n",
      "            (norm): FrozenBatchNorm2d(num_features=256, eps=1e-05)\n",
      "          )\n",
      "          (conv2): Conv2d(\n",
      "            256, 256, kernel_size=(3, 3), stride=(1, 1), padding=(1, 1), bias=False\n",
      "            (norm): FrozenBatchNorm2d(num_features=256, eps=1e-05)\n",
      "          )\n",
      "          (conv3): Conv2d(\n",
      "            256, 1024, kernel_size=(1, 1), stride=(1, 1), bias=False\n",
      "            (norm): FrozenBatchNorm2d(num_features=1024, eps=1e-05)\n",
      "          )\n",
      "        )\n",
      "        (21): BottleneckBlock(\n",
      "          (conv1): Conv2d(\n",
      "            1024, 256, kernel_size=(1, 1), stride=(1, 1), bias=False\n",
      "            (norm): FrozenBatchNorm2d(num_features=256, eps=1e-05)\n",
      "          )\n",
      "          (conv2): Conv2d(\n",
      "            256, 256, kernel_size=(3, 3), stride=(1, 1), padding=(1, 1), bias=False\n",
      "            (norm): FrozenBatchNorm2d(num_features=256, eps=1e-05)\n",
      "          )\n",
      "          (conv3): Conv2d(\n",
      "            256, 1024, kernel_size=(1, 1), stride=(1, 1), bias=False\n",
      "            (norm): FrozenBatchNorm2d(num_features=1024, eps=1e-05)\n",
      "          )\n",
      "        )\n",
      "        (22): BottleneckBlock(\n",
      "          (conv1): Conv2d(\n",
      "            1024, 256, kernel_size=(1, 1), stride=(1, 1), bias=False\n",
      "            (norm): FrozenBatchNorm2d(num_features=256, eps=1e-05)\n",
      "          )\n",
      "          (conv2): Conv2d(\n",
      "            256, 256, kernel_size=(3, 3), stride=(1, 1), padding=(1, 1), bias=False\n",
      "            (norm): FrozenBatchNorm2d(num_features=256, eps=1e-05)\n",
      "          )\n",
      "          (conv3): Conv2d(\n",
      "            256, 1024, kernel_size=(1, 1), stride=(1, 1), bias=False\n",
      "            (norm): FrozenBatchNorm2d(num_features=1024, eps=1e-05)\n",
      "          )\n",
      "        )\n",
      "      )\n",
      "      (res5): Sequential(\n",
      "        (0): BottleneckBlock(\n",
      "          (shortcut): Conv2d(\n",
      "            1024, 2048, kernel_size=(1, 1), stride=(2, 2), bias=False\n",
      "            (norm): FrozenBatchNorm2d(num_features=2048, eps=1e-05)\n",
      "          )\n",
      "          (conv1): Conv2d(\n",
      "            1024, 512, kernel_size=(1, 1), stride=(2, 2), bias=False\n",
      "            (norm): FrozenBatchNorm2d(num_features=512, eps=1e-05)\n",
      "          )\n",
      "          (conv2): Conv2d(\n",
      "            512, 512, kernel_size=(3, 3), stride=(1, 1), padding=(1, 1), bias=False\n",
      "            (norm): FrozenBatchNorm2d(num_features=512, eps=1e-05)\n",
      "          )\n",
      "          (conv3): Conv2d(\n",
      "            512, 2048, kernel_size=(1, 1), stride=(1, 1), bias=False\n",
      "            (norm): FrozenBatchNorm2d(num_features=2048, eps=1e-05)\n",
      "          )\n",
      "        )\n",
      "        (1): BottleneckBlock(\n",
      "          (conv1): Conv2d(\n",
      "            2048, 512, kernel_size=(1, 1), stride=(1, 1), bias=False\n",
      "            (norm): FrozenBatchNorm2d(num_features=512, eps=1e-05)\n",
      "          )\n",
      "          (conv2): Conv2d(\n",
      "            512, 512, kernel_size=(3, 3), stride=(1, 1), padding=(1, 1), bias=False\n",
      "            (norm): FrozenBatchNorm2d(num_features=512, eps=1e-05)\n",
      "          )\n",
      "          (conv3): Conv2d(\n",
      "            512, 2048, kernel_size=(1, 1), stride=(1, 1), bias=False\n",
      "            (norm): FrozenBatchNorm2d(num_features=2048, eps=1e-05)\n",
      "          )\n",
      "        )\n",
      "        (2): BottleneckBlock(\n",
      "          (conv1): Conv2d(\n",
      "            2048, 512, kernel_size=(1, 1), stride=(1, 1), bias=False\n",
      "            (norm): FrozenBatchNorm2d(num_features=512, eps=1e-05)\n",
      "          )\n",
      "          (conv2): Conv2d(\n",
      "            512, 512, kernel_size=(3, 3), stride=(1, 1), padding=(1, 1), bias=False\n",
      "            (norm): FrozenBatchNorm2d(num_features=512, eps=1e-05)\n",
      "          )\n",
      "          (conv3): Conv2d(\n",
      "            512, 2048, kernel_size=(1, 1), stride=(1, 1), bias=False\n",
      "            (norm): FrozenBatchNorm2d(num_features=2048, eps=1e-05)\n",
      "          )\n",
      "        )\n",
      "      )\n",
      "    )\n",
      "  )\n",
      "  (proposal_generator): RPN(\n",
      "    (rpn_head): StandardRPNHead(\n",
      "      (conv): Conv2d(\n",
      "        256, 256, kernel_size=(3, 3), stride=(1, 1), padding=(1, 1)\n",
      "        (activation): ReLU()\n",
      "      )\n",
      "      (objectness_logits): Conv2d(256, 3, kernel_size=(1, 1), stride=(1, 1))\n",
      "      (anchor_deltas): Conv2d(256, 12, kernel_size=(1, 1), stride=(1, 1))\n",
      "    )\n",
      "    (anchor_generator): DefaultAnchorGenerator(\n",
      "      (cell_anchors): BufferList()\n",
      "    )\n",
      "  )\n",
      "  (roi_heads): StandardROIHeads(\n",
      "    (box_pooler): ROIPooler(\n",
      "      (level_poolers): ModuleList(\n",
      "        (0): ROIAlign(output_size=(7, 7), spatial_scale=0.25, sampling_ratio=0, aligned=True)\n",
      "        (1): ROIAlign(output_size=(7, 7), spatial_scale=0.125, sampling_ratio=0, aligned=True)\n",
      "        (2): ROIAlign(output_size=(7, 7), spatial_scale=0.0625, sampling_ratio=0, aligned=True)\n",
      "        (3): ROIAlign(output_size=(7, 7), spatial_scale=0.03125, sampling_ratio=0, aligned=True)\n",
      "      )\n",
      "    )\n",
      "    (box_head): FastRCNNConvFCHead(\n",
      "      (flatten): Flatten(start_dim=1, end_dim=-1)\n",
      "      (fc1): Linear(in_features=12544, out_features=1024, bias=True)\n",
      "      (fc_relu1): ReLU()\n",
      "      (fc2): Linear(in_features=1024, out_features=1024, bias=True)\n",
      "      (fc_relu2): ReLU()\n",
      "    )\n",
      "    (box_predictor): FastRCNNOutputLayers(\n",
      "      (cls_score): Linear(in_features=1024, out_features=4, bias=True)\n",
      "      (bbox_pred): Linear(in_features=1024, out_features=12, bias=True)\n",
      "    )\n",
      "    (mask_pooler): ROIPooler(\n",
      "      (level_poolers): ModuleList(\n",
      "        (0): ROIAlign(output_size=(14, 14), spatial_scale=0.25, sampling_ratio=0, aligned=True)\n",
      "        (1): ROIAlign(output_size=(14, 14), spatial_scale=0.125, sampling_ratio=0, aligned=True)\n",
      "        (2): ROIAlign(output_size=(14, 14), spatial_scale=0.0625, sampling_ratio=0, aligned=True)\n",
      "        (3): ROIAlign(output_size=(14, 14), spatial_scale=0.03125, sampling_ratio=0, aligned=True)\n",
      "      )\n",
      "    )\n",
      "    (mask_head): MaskRCNNConvUpsampleHead(\n",
      "      (mask_fcn1): Conv2d(\n",
      "        256, 256, kernel_size=(3, 3), stride=(1, 1), padding=(1, 1)\n",
      "        (activation): ReLU()\n",
      "      )\n",
      "      (mask_fcn2): Conv2d(\n",
      "        256, 256, kernel_size=(3, 3), stride=(1, 1), padding=(1, 1)\n",
      "        (activation): ReLU()\n",
      "      )\n",
      "      (mask_fcn3): Conv2d(\n",
      "        256, 256, kernel_size=(3, 3), stride=(1, 1), padding=(1, 1)\n",
      "        (activation): ReLU()\n",
      "      )\n",
      "      (mask_fcn4): Conv2d(\n",
      "        256, 256, kernel_size=(3, 3), stride=(1, 1), padding=(1, 1)\n",
      "        (activation): ReLU()\n",
      "      )\n",
      "      (deconv): ConvTranspose2d(256, 256, kernel_size=(2, 2), stride=(2, 2))\n",
      "      (deconv_relu): ReLU()\n",
      "      (predictor): Conv2d(256, 3, kernel_size=(1, 1), stride=(1, 1))\n",
      "    )\n",
      "  )\n",
      ")\u001b[0m\n"
     ]
    },
    {
     "name": "stdout",
     "output_type": "stream",
     "text": [
      "\u001b[32m[12/17 12:55:17 d2.engine.defaults]: \u001b[0mModel:\n",
      "GeneralizedRCNN(\n",
      "  (backbone): FPN(\n",
      "    (fpn_lateral2): Conv2d(256, 256, kernel_size=(1, 1), stride=(1, 1))\n",
      "    (fpn_output2): Conv2d(256, 256, kernel_size=(3, 3), stride=(1, 1), padding=(1, 1))\n",
      "    (fpn_lateral3): Conv2d(512, 256, kernel_size=(1, 1), stride=(1, 1))\n",
      "    (fpn_output3): Conv2d(256, 256, kernel_size=(3, 3), stride=(1, 1), padding=(1, 1))\n",
      "    (fpn_lateral4): Conv2d(1024, 256, kernel_size=(1, 1), stride=(1, 1))\n",
      "    (fpn_output4): Conv2d(256, 256, kernel_size=(3, 3), stride=(1, 1), padding=(1, 1))\n",
      "    (fpn_lateral5): Conv2d(2048, 256, kernel_size=(1, 1), stride=(1, 1))\n",
      "    (fpn_output5): Conv2d(256, 256, kernel_size=(3, 3), stride=(1, 1), padding=(1, 1))\n",
      "    (top_block): LastLevelMaxPool()\n",
      "    (bottom_up): ResNet(\n",
      "      (stem): BasicStem(\n",
      "        (conv1): Conv2d(\n",
      "          3, 64, kernel_size=(7, 7), stride=(2, 2), padding=(3, 3), bias=False\n",
      "          (norm): FrozenBatchNorm2d(num_features=64, eps=1e-05)\n",
      "        )\n",
      "      )\n",
      "      (res2): Sequential(\n",
      "        (0): BottleneckBlock(\n",
      "          (shortcut): Conv2d(\n",
      "            64, 256, kernel_size=(1, 1), stride=(1, 1), bias=False\n",
      "            (norm): FrozenBatchNorm2d(num_features=256, eps=1e-05)\n",
      "          )\n",
      "          (conv1): Conv2d(\n",
      "            64, 64, kernel_size=(1, 1), stride=(1, 1), bias=False\n",
      "            (norm): FrozenBatchNorm2d(num_features=64, eps=1e-05)\n",
      "          )\n",
      "          (conv2): Conv2d(\n",
      "            64, 64, kernel_size=(3, 3), stride=(1, 1), padding=(1, 1), bias=False\n",
      "            (norm): FrozenBatchNorm2d(num_features=64, eps=1e-05)\n",
      "          )\n",
      "          (conv3): Conv2d(\n",
      "            64, 256, kernel_size=(1, 1), stride=(1, 1), bias=False\n",
      "            (norm): FrozenBatchNorm2d(num_features=256, eps=1e-05)\n",
      "          )\n",
      "        )\n",
      "        (1): BottleneckBlock(\n",
      "          (conv1): Conv2d(\n",
      "            256, 64, kernel_size=(1, 1), stride=(1, 1), bias=False\n",
      "            (norm): FrozenBatchNorm2d(num_features=64, eps=1e-05)\n",
      "          )\n",
      "          (conv2): Conv2d(\n",
      "            64, 64, kernel_size=(3, 3), stride=(1, 1), padding=(1, 1), bias=False\n",
      "            (norm): FrozenBatchNorm2d(num_features=64, eps=1e-05)\n",
      "          )\n",
      "          (conv3): Conv2d(\n",
      "            64, 256, kernel_size=(1, 1), stride=(1, 1), bias=False\n",
      "            (norm): FrozenBatchNorm2d(num_features=256, eps=1e-05)\n",
      "          )\n",
      "        )\n",
      "        (2): BottleneckBlock(\n",
      "          (conv1): Conv2d(\n",
      "            256, 64, kernel_size=(1, 1), stride=(1, 1), bias=False\n",
      "            (norm): FrozenBatchNorm2d(num_features=64, eps=1e-05)\n",
      "          )\n",
      "          (conv2): Conv2d(\n",
      "            64, 64, kernel_size=(3, 3), stride=(1, 1), padding=(1, 1), bias=False\n",
      "            (norm): FrozenBatchNorm2d(num_features=64, eps=1e-05)\n",
      "          )\n",
      "          (conv3): Conv2d(\n",
      "            64, 256, kernel_size=(1, 1), stride=(1, 1), bias=False\n",
      "            (norm): FrozenBatchNorm2d(num_features=256, eps=1e-05)\n",
      "          )\n",
      "        )\n",
      "      )\n",
      "      (res3): Sequential(\n",
      "        (0): BottleneckBlock(\n",
      "          (shortcut): Conv2d(\n",
      "            256, 512, kernel_size=(1, 1), stride=(2, 2), bias=False\n",
      "            (norm): FrozenBatchNorm2d(num_features=512, eps=1e-05)\n",
      "          )\n",
      "          (conv1): Conv2d(\n",
      "            256, 128, kernel_size=(1, 1), stride=(2, 2), bias=False\n",
      "            (norm): FrozenBatchNorm2d(num_features=128, eps=1e-05)\n",
      "          )\n",
      "          (conv2): Conv2d(\n",
      "            128, 128, kernel_size=(3, 3), stride=(1, 1), padding=(1, 1), bias=False\n",
      "            (norm): FrozenBatchNorm2d(num_features=128, eps=1e-05)\n",
      "          )\n",
      "          (conv3): Conv2d(\n",
      "            128, 512, kernel_size=(1, 1), stride=(1, 1), bias=False\n",
      "            (norm): FrozenBatchNorm2d(num_features=512, eps=1e-05)\n",
      "          )\n",
      "        )\n",
      "        (1): BottleneckBlock(\n",
      "          (conv1): Conv2d(\n",
      "            512, 128, kernel_size=(1, 1), stride=(1, 1), bias=False\n",
      "            (norm): FrozenBatchNorm2d(num_features=128, eps=1e-05)\n",
      "          )\n",
      "          (conv2): Conv2d(\n",
      "            128, 128, kernel_size=(3, 3), stride=(1, 1), padding=(1, 1), bias=False\n",
      "            (norm): FrozenBatchNorm2d(num_features=128, eps=1e-05)\n",
      "          )\n",
      "          (conv3): Conv2d(\n",
      "            128, 512, kernel_size=(1, 1), stride=(1, 1), bias=False\n",
      "            (norm): FrozenBatchNorm2d(num_features=512, eps=1e-05)\n",
      "          )\n",
      "        )\n",
      "        (2): BottleneckBlock(\n",
      "          (conv1): Conv2d(\n",
      "            512, 128, kernel_size=(1, 1), stride=(1, 1), bias=False\n",
      "            (norm): FrozenBatchNorm2d(num_features=128, eps=1e-05)\n",
      "          )\n",
      "          (conv2): Conv2d(\n",
      "            128, 128, kernel_size=(3, 3), stride=(1, 1), padding=(1, 1), bias=False\n",
      "            (norm): FrozenBatchNorm2d(num_features=128, eps=1e-05)\n",
      "          )\n",
      "          (conv3): Conv2d(\n",
      "            128, 512, kernel_size=(1, 1), stride=(1, 1), bias=False\n",
      "            (norm): FrozenBatchNorm2d(num_features=512, eps=1e-05)\n",
      "          )\n",
      "        )\n",
      "        (3): BottleneckBlock(\n",
      "          (conv1): Conv2d(\n",
      "            512, 128, kernel_size=(1, 1), stride=(1, 1), bias=False\n",
      "            (norm): FrozenBatchNorm2d(num_features=128, eps=1e-05)\n",
      "          )\n",
      "          (conv2): Conv2d(\n",
      "            128, 128, kernel_size=(3, 3), stride=(1, 1), padding=(1, 1), bias=False\n",
      "            (norm): FrozenBatchNorm2d(num_features=128, eps=1e-05)\n",
      "          )\n",
      "          (conv3): Conv2d(\n",
      "            128, 512, kernel_size=(1, 1), stride=(1, 1), bias=False\n",
      "            (norm): FrozenBatchNorm2d(num_features=512, eps=1e-05)\n",
      "          )\n",
      "        )\n",
      "      )\n",
      "      (res4): Sequential(\n",
      "        (0): BottleneckBlock(\n",
      "          (shortcut): Conv2d(\n",
      "            512, 1024, kernel_size=(1, 1), stride=(2, 2), bias=False\n",
      "            (norm): FrozenBatchNorm2d(num_features=1024, eps=1e-05)\n",
      "          )\n",
      "          (conv1): Conv2d(\n",
      "            512, 256, kernel_size=(1, 1), stride=(2, 2), bias=False\n",
      "            (norm): FrozenBatchNorm2d(num_features=256, eps=1e-05)\n",
      "          )\n",
      "          (conv2): Conv2d(\n",
      "            256, 256, kernel_size=(3, 3), stride=(1, 1), padding=(1, 1), bias=False\n",
      "            (norm): FrozenBatchNorm2d(num_features=256, eps=1e-05)\n",
      "          )\n",
      "          (conv3): Conv2d(\n",
      "            256, 1024, kernel_size=(1, 1), stride=(1, 1), bias=False\n",
      "            (norm): FrozenBatchNorm2d(num_features=1024, eps=1e-05)\n",
      "          )\n",
      "        )\n",
      "        (1): BottleneckBlock(\n",
      "          (conv1): Conv2d(\n",
      "            1024, 256, kernel_size=(1, 1), stride=(1, 1), bias=False\n",
      "            (norm): FrozenBatchNorm2d(num_features=256, eps=1e-05)\n",
      "          )\n",
      "          (conv2): Conv2d(\n",
      "            256, 256, kernel_size=(3, 3), stride=(1, 1), padding=(1, 1), bias=False\n",
      "            (norm): FrozenBatchNorm2d(num_features=256, eps=1e-05)\n",
      "          )\n",
      "          (conv3): Conv2d(\n",
      "            256, 1024, kernel_size=(1, 1), stride=(1, 1), bias=False\n",
      "            (norm): FrozenBatchNorm2d(num_features=1024, eps=1e-05)\n",
      "          )\n",
      "        )\n",
      "        (2): BottleneckBlock(\n",
      "          (conv1): Conv2d(\n",
      "            1024, 256, kernel_size=(1, 1), stride=(1, 1), bias=False\n",
      "            (norm): FrozenBatchNorm2d(num_features=256, eps=1e-05)\n",
      "          )\n",
      "          (conv2): Conv2d(\n",
      "            256, 256, kernel_size=(3, 3), stride=(1, 1), padding=(1, 1), bias=False\n",
      "            (norm): FrozenBatchNorm2d(num_features=256, eps=1e-05)\n",
      "          )\n",
      "          (conv3): Conv2d(\n",
      "            256, 1024, kernel_size=(1, 1), stride=(1, 1), bias=False\n",
      "            (norm): FrozenBatchNorm2d(num_features=1024, eps=1e-05)\n",
      "          )\n",
      "        )\n",
      "        (3): BottleneckBlock(\n",
      "          (conv1): Conv2d(\n",
      "            1024, 256, kernel_size=(1, 1), stride=(1, 1), bias=False\n",
      "            (norm): FrozenBatchNorm2d(num_features=256, eps=1e-05)\n",
      "          )\n",
      "          (conv2): Conv2d(\n",
      "            256, 256, kernel_size=(3, 3), stride=(1, 1), padding=(1, 1), bias=False\n",
      "            (norm): FrozenBatchNorm2d(num_features=256, eps=1e-05)\n",
      "          )\n",
      "          (conv3): Conv2d(\n",
      "            256, 1024, kernel_size=(1, 1), stride=(1, 1), bias=False\n",
      "            (norm): FrozenBatchNorm2d(num_features=1024, eps=1e-05)\n",
      "          )\n",
      "        )\n",
      "        (4): BottleneckBlock(\n",
      "          (conv1): Conv2d(\n",
      "            1024, 256, kernel_size=(1, 1), stride=(1, 1), bias=False\n",
      "            (norm): FrozenBatchNorm2d(num_features=256, eps=1e-05)\n",
      "          )\n",
      "          (conv2): Conv2d(\n",
      "            256, 256, kernel_size=(3, 3), stride=(1, 1), padding=(1, 1), bias=False\n",
      "            (norm): FrozenBatchNorm2d(num_features=256, eps=1e-05)\n",
      "          )\n",
      "          (conv3): Conv2d(\n",
      "            256, 1024, kernel_size=(1, 1), stride=(1, 1), bias=False\n",
      "            (norm): FrozenBatchNorm2d(num_features=1024, eps=1e-05)\n",
      "          )\n",
      "        )\n",
      "        (5): BottleneckBlock(\n",
      "          (conv1): Conv2d(\n",
      "            1024, 256, kernel_size=(1, 1), stride=(1, 1), bias=False\n",
      "            (norm): FrozenBatchNorm2d(num_features=256, eps=1e-05)\n",
      "          )\n",
      "          (conv2): Conv2d(\n",
      "            256, 256, kernel_size=(3, 3), stride=(1, 1), padding=(1, 1), bias=False\n",
      "            (norm): FrozenBatchNorm2d(num_features=256, eps=1e-05)\n",
      "          )\n",
      "          (conv3): Conv2d(\n",
      "            256, 1024, kernel_size=(1, 1), stride=(1, 1), bias=False\n",
      "            (norm): FrozenBatchNorm2d(num_features=1024, eps=1e-05)\n",
      "          )\n",
      "        )\n",
      "        (6): BottleneckBlock(\n",
      "          (conv1): Conv2d(\n",
      "            1024, 256, kernel_size=(1, 1), stride=(1, 1), bias=False\n",
      "            (norm): FrozenBatchNorm2d(num_features=256, eps=1e-05)\n",
      "          )\n",
      "          (conv2): Conv2d(\n",
      "            256, 256, kernel_size=(3, 3), stride=(1, 1), padding=(1, 1), bias=False\n",
      "            (norm): FrozenBatchNorm2d(num_features=256, eps=1e-05)\n",
      "          )\n",
      "          (conv3): Conv2d(\n",
      "            256, 1024, kernel_size=(1, 1), stride=(1, 1), bias=False\n",
      "            (norm): FrozenBatchNorm2d(num_features=1024, eps=1e-05)\n",
      "          )\n",
      "        )\n",
      "        (7): BottleneckBlock(\n",
      "          (conv1): Conv2d(\n",
      "            1024, 256, kernel_size=(1, 1), stride=(1, 1), bias=False\n",
      "            (norm): FrozenBatchNorm2d(num_features=256, eps=1e-05)\n",
      "          )\n",
      "          (conv2): Conv2d(\n",
      "            256, 256, kernel_size=(3, 3), stride=(1, 1), padding=(1, 1), bias=False\n",
      "            (norm): FrozenBatchNorm2d(num_features=256, eps=1e-05)\n",
      "          )\n",
      "          (conv3): Conv2d(\n",
      "            256, 1024, kernel_size=(1, 1), stride=(1, 1), bias=False\n",
      "            (norm): FrozenBatchNorm2d(num_features=1024, eps=1e-05)\n",
      "          )\n",
      "        )\n",
      "        (8): BottleneckBlock(\n",
      "          (conv1): Conv2d(\n",
      "            1024, 256, kernel_size=(1, 1), stride=(1, 1), bias=False\n",
      "            (norm): FrozenBatchNorm2d(num_features=256, eps=1e-05)\n",
      "          )\n",
      "          (conv2): Conv2d(\n",
      "            256, 256, kernel_size=(3, 3), stride=(1, 1), padding=(1, 1), bias=False\n",
      "            (norm): FrozenBatchNorm2d(num_features=256, eps=1e-05)\n",
      "          )\n",
      "          (conv3): Conv2d(\n",
      "            256, 1024, kernel_size=(1, 1), stride=(1, 1), bias=False\n",
      "            (norm): FrozenBatchNorm2d(num_features=1024, eps=1e-05)\n",
      "          )\n",
      "        )\n",
      "        (9): BottleneckBlock(\n",
      "          (conv1): Conv2d(\n",
      "            1024, 256, kernel_size=(1, 1), stride=(1, 1), bias=False\n",
      "            (norm): FrozenBatchNorm2d(num_features=256, eps=1e-05)\n",
      "          )\n",
      "          (conv2): Conv2d(\n",
      "            256, 256, kernel_size=(3, 3), stride=(1, 1), padding=(1, 1), bias=False\n",
      "            (norm): FrozenBatchNorm2d(num_features=256, eps=1e-05)\n",
      "          )\n",
      "          (conv3): Conv2d(\n",
      "            256, 1024, kernel_size=(1, 1), stride=(1, 1), bias=False\n",
      "            (norm): FrozenBatchNorm2d(num_features=1024, eps=1e-05)\n",
      "          )\n",
      "        )\n",
      "        (10): BottleneckBlock(\n",
      "          (conv1): Conv2d(\n",
      "            1024, 256, kernel_size=(1, 1), stride=(1, 1), bias=False\n",
      "            (norm): FrozenBatchNorm2d(num_features=256, eps=1e-05)\n",
      "          )\n",
      "          (conv2): Conv2d(\n",
      "            256, 256, kernel_size=(3, 3), stride=(1, 1), padding=(1, 1), bias=False\n",
      "            (norm): FrozenBatchNorm2d(num_features=256, eps=1e-05)\n",
      "          )\n",
      "          (conv3): Conv2d(\n",
      "            256, 1024, kernel_size=(1, 1), stride=(1, 1), bias=False\n",
      "            (norm): FrozenBatchNorm2d(num_features=1024, eps=1e-05)\n",
      "          )\n",
      "        )\n",
      "        (11): BottleneckBlock(\n",
      "          (conv1): Conv2d(\n",
      "            1024, 256, kernel_size=(1, 1), stride=(1, 1), bias=False\n",
      "            (norm): FrozenBatchNorm2d(num_features=256, eps=1e-05)\n",
      "          )\n",
      "          (conv2): Conv2d(\n",
      "            256, 256, kernel_size=(3, 3), stride=(1, 1), padding=(1, 1), bias=False\n",
      "            (norm): FrozenBatchNorm2d(num_features=256, eps=1e-05)\n",
      "          )\n",
      "          (conv3): Conv2d(\n",
      "            256, 1024, kernel_size=(1, 1), stride=(1, 1), bias=False\n",
      "            (norm): FrozenBatchNorm2d(num_features=1024, eps=1e-05)\n",
      "          )\n",
      "        )\n",
      "        (12): BottleneckBlock(\n",
      "          (conv1): Conv2d(\n",
      "            1024, 256, kernel_size=(1, 1), stride=(1, 1), bias=False\n",
      "            (norm): FrozenBatchNorm2d(num_features=256, eps=1e-05)\n",
      "          )\n",
      "          (conv2): Conv2d(\n",
      "            256, 256, kernel_size=(3, 3), stride=(1, 1), padding=(1, 1), bias=False\n",
      "            (norm): FrozenBatchNorm2d(num_features=256, eps=1e-05)\n",
      "          )\n",
      "          (conv3): Conv2d(\n",
      "            256, 1024, kernel_size=(1, 1), stride=(1, 1), bias=False\n",
      "            (norm): FrozenBatchNorm2d(num_features=1024, eps=1e-05)\n",
      "          )\n",
      "        )\n",
      "        (13): BottleneckBlock(\n",
      "          (conv1): Conv2d(\n",
      "            1024, 256, kernel_size=(1, 1), stride=(1, 1), bias=False\n",
      "            (norm): FrozenBatchNorm2d(num_features=256, eps=1e-05)\n",
      "          )\n",
      "          (conv2): Conv2d(\n",
      "            256, 256, kernel_size=(3, 3), stride=(1, 1), padding=(1, 1), bias=False\n",
      "            (norm): FrozenBatchNorm2d(num_features=256, eps=1e-05)\n",
      "          )\n",
      "          (conv3): Conv2d(\n",
      "            256, 1024, kernel_size=(1, 1), stride=(1, 1), bias=False\n",
      "            (norm): FrozenBatchNorm2d(num_features=1024, eps=1e-05)\n",
      "          )\n",
      "        )\n",
      "        (14): BottleneckBlock(\n",
      "          (conv1): Conv2d(\n",
      "            1024, 256, kernel_size=(1, 1), stride=(1, 1), bias=False\n",
      "            (norm): FrozenBatchNorm2d(num_features=256, eps=1e-05)\n",
      "          )\n",
      "          (conv2): Conv2d(\n",
      "            256, 256, kernel_size=(3, 3), stride=(1, 1), padding=(1, 1), bias=False\n",
      "            (norm): FrozenBatchNorm2d(num_features=256, eps=1e-05)\n",
      "          )\n",
      "          (conv3): Conv2d(\n",
      "            256, 1024, kernel_size=(1, 1), stride=(1, 1), bias=False\n",
      "            (norm): FrozenBatchNorm2d(num_features=1024, eps=1e-05)\n",
      "          )\n",
      "        )\n",
      "        (15): BottleneckBlock(\n",
      "          (conv1): Conv2d(\n",
      "            1024, 256, kernel_size=(1, 1), stride=(1, 1), bias=False\n",
      "            (norm): FrozenBatchNorm2d(num_features=256, eps=1e-05)\n",
      "          )\n",
      "          (conv2): Conv2d(\n",
      "            256, 256, kernel_size=(3, 3), stride=(1, 1), padding=(1, 1), bias=False\n",
      "            (norm): FrozenBatchNorm2d(num_features=256, eps=1e-05)\n",
      "          )\n",
      "          (conv3): Conv2d(\n",
      "            256, 1024, kernel_size=(1, 1), stride=(1, 1), bias=False\n",
      "            (norm): FrozenBatchNorm2d(num_features=1024, eps=1e-05)\n",
      "          )\n",
      "        )\n",
      "        (16): BottleneckBlock(\n",
      "          (conv1): Conv2d(\n",
      "            1024, 256, kernel_size=(1, 1), stride=(1, 1), bias=False\n",
      "            (norm): FrozenBatchNorm2d(num_features=256, eps=1e-05)\n",
      "          )\n",
      "          (conv2): Conv2d(\n",
      "            256, 256, kernel_size=(3, 3), stride=(1, 1), padding=(1, 1), bias=False\n",
      "            (norm): FrozenBatchNorm2d(num_features=256, eps=1e-05)\n",
      "          )\n",
      "          (conv3): Conv2d(\n",
      "            256, 1024, kernel_size=(1, 1), stride=(1, 1), bias=False\n",
      "            (norm): FrozenBatchNorm2d(num_features=1024, eps=1e-05)\n",
      "          )\n",
      "        )\n",
      "        (17): BottleneckBlock(\n",
      "          (conv1): Conv2d(\n",
      "            1024, 256, kernel_size=(1, 1), stride=(1, 1), bias=False\n",
      "            (norm): FrozenBatchNorm2d(num_features=256, eps=1e-05)\n",
      "          )\n",
      "          (conv2): Conv2d(\n",
      "            256, 256, kernel_size=(3, 3), stride=(1, 1), padding=(1, 1), bias=False\n",
      "            (norm): FrozenBatchNorm2d(num_features=256, eps=1e-05)\n",
      "          )\n",
      "          (conv3): Conv2d(\n",
      "            256, 1024, kernel_size=(1, 1), stride=(1, 1), bias=False\n",
      "            (norm): FrozenBatchNorm2d(num_features=1024, eps=1e-05)\n",
      "          )\n",
      "        )\n",
      "        (18): BottleneckBlock(\n",
      "          (conv1): Conv2d(\n",
      "            1024, 256, kernel_size=(1, 1), stride=(1, 1), bias=False\n",
      "            (norm): FrozenBatchNorm2d(num_features=256, eps=1e-05)\n",
      "          )\n",
      "          (conv2): Conv2d(\n",
      "            256, 256, kernel_size=(3, 3), stride=(1, 1), padding=(1, 1), bias=False\n",
      "            (norm): FrozenBatchNorm2d(num_features=256, eps=1e-05)\n",
      "          )\n",
      "          (conv3): Conv2d(\n",
      "            256, 1024, kernel_size=(1, 1), stride=(1, 1), bias=False\n",
      "            (norm): FrozenBatchNorm2d(num_features=1024, eps=1e-05)\n",
      "          )\n",
      "        )\n",
      "        (19): BottleneckBlock(\n",
      "          (conv1): Conv2d(\n",
      "            1024, 256, kernel_size=(1, 1), stride=(1, 1), bias=False\n",
      "            (norm): FrozenBatchNorm2d(num_features=256, eps=1e-05)\n",
      "          )\n",
      "          (conv2): Conv2d(\n",
      "            256, 256, kernel_size=(3, 3), stride=(1, 1), padding=(1, 1), bias=False\n",
      "            (norm): FrozenBatchNorm2d(num_features=256, eps=1e-05)\n",
      "          )\n",
      "          (conv3): Conv2d(\n",
      "            256, 1024, kernel_size=(1, 1), stride=(1, 1), bias=False\n",
      "            (norm): FrozenBatchNorm2d(num_features=1024, eps=1e-05)\n",
      "          )\n",
      "        )\n",
      "        (20): BottleneckBlock(\n",
      "          (conv1): Conv2d(\n",
      "            1024, 256, kernel_size=(1, 1), stride=(1, 1), bias=False\n",
      "            (norm): FrozenBatchNorm2d(num_features=256, eps=1e-05)\n",
      "          )\n",
      "          (conv2): Conv2d(\n",
      "            256, 256, kernel_size=(3, 3), stride=(1, 1), padding=(1, 1), bias=False\n",
      "            (norm): FrozenBatchNorm2d(num_features=256, eps=1e-05)\n",
      "          )\n",
      "          (conv3): Conv2d(\n",
      "            256, 1024, kernel_size=(1, 1), stride=(1, 1), bias=False\n",
      "            (norm): FrozenBatchNorm2d(num_features=1024, eps=1e-05)\n",
      "          )\n",
      "        )\n",
      "        (21): BottleneckBlock(\n",
      "          (conv1): Conv2d(\n",
      "            1024, 256, kernel_size=(1, 1), stride=(1, 1), bias=False\n",
      "            (norm): FrozenBatchNorm2d(num_features=256, eps=1e-05)\n",
      "          )\n",
      "          (conv2): Conv2d(\n",
      "            256, 256, kernel_size=(3, 3), stride=(1, 1), padding=(1, 1), bias=False\n",
      "            (norm): FrozenBatchNorm2d(num_features=256, eps=1e-05)\n",
      "          )\n",
      "          (conv3): Conv2d(\n",
      "            256, 1024, kernel_size=(1, 1), stride=(1, 1), bias=False\n",
      "            (norm): FrozenBatchNorm2d(num_features=1024, eps=1e-05)\n",
      "          )\n",
      "        )\n",
      "        (22): BottleneckBlock(\n",
      "          (conv1): Conv2d(\n",
      "            1024, 256, kernel_size=(1, 1), stride=(1, 1), bias=False\n",
      "            (norm): FrozenBatchNorm2d(num_features=256, eps=1e-05)\n",
      "          )\n",
      "          (conv2): Conv2d(\n",
      "            256, 256, kernel_size=(3, 3), stride=(1, 1), padding=(1, 1), bias=False\n",
      "            (norm): FrozenBatchNorm2d(num_features=256, eps=1e-05)\n",
      "          )\n",
      "          (conv3): Conv2d(\n",
      "            256, 1024, kernel_size=(1, 1), stride=(1, 1), bias=False\n",
      "            (norm): FrozenBatchNorm2d(num_features=1024, eps=1e-05)\n",
      "          )\n",
      "        )\n",
      "      )\n",
      "      (res5): Sequential(\n",
      "        (0): BottleneckBlock(\n",
      "          (shortcut): Conv2d(\n",
      "            1024, 2048, kernel_size=(1, 1), stride=(2, 2), bias=False\n",
      "            (norm): FrozenBatchNorm2d(num_features=2048, eps=1e-05)\n",
      "          )\n",
      "          (conv1): Conv2d(\n",
      "            1024, 512, kernel_size=(1, 1), stride=(2, 2), bias=False\n",
      "            (norm): FrozenBatchNorm2d(num_features=512, eps=1e-05)\n",
      "          )\n",
      "          (conv2): Conv2d(\n",
      "            512, 512, kernel_size=(3, 3), stride=(1, 1), padding=(1, 1), bias=False\n",
      "            (norm): FrozenBatchNorm2d(num_features=512, eps=1e-05)\n",
      "          )\n",
      "          (conv3): Conv2d(\n",
      "            512, 2048, kernel_size=(1, 1), stride=(1, 1), bias=False\n",
      "            (norm): FrozenBatchNorm2d(num_features=2048, eps=1e-05)\n",
      "          )\n",
      "        )\n",
      "        (1): BottleneckBlock(\n",
      "          (conv1): Conv2d(\n",
      "            2048, 512, kernel_size=(1, 1), stride=(1, 1), bias=False\n",
      "            (norm): FrozenBatchNorm2d(num_features=512, eps=1e-05)\n",
      "          )\n",
      "          (conv2): Conv2d(\n",
      "            512, 512, kernel_size=(3, 3), stride=(1, 1), padding=(1, 1), bias=False\n",
      "            (norm): FrozenBatchNorm2d(num_features=512, eps=1e-05)\n",
      "          )\n",
      "          (conv3): Conv2d(\n",
      "            512, 2048, kernel_size=(1, 1), stride=(1, 1), bias=False\n",
      "            (norm): FrozenBatchNorm2d(num_features=2048, eps=1e-05)\n",
      "          )\n",
      "        )\n",
      "        (2): BottleneckBlock(\n",
      "          (conv1): Conv2d(\n",
      "            2048, 512, kernel_size=(1, 1), stride=(1, 1), bias=False\n",
      "            (norm): FrozenBatchNorm2d(num_features=512, eps=1e-05)\n",
      "          )\n",
      "          (conv2): Conv2d(\n",
      "            512, 512, kernel_size=(3, 3), stride=(1, 1), padding=(1, 1), bias=False\n",
      "            (norm): FrozenBatchNorm2d(num_features=512, eps=1e-05)\n",
      "          )\n",
      "          (conv3): Conv2d(\n",
      "            512, 2048, kernel_size=(1, 1), stride=(1, 1), bias=False\n",
      "            (norm): FrozenBatchNorm2d(num_features=2048, eps=1e-05)\n",
      "          )\n",
      "        )\n",
      "      )\n",
      "    )\n",
      "  )\n",
      "  (proposal_generator): RPN(\n",
      "    (rpn_head): StandardRPNHead(\n",
      "      (conv): Conv2d(\n",
      "        256, 256, kernel_size=(3, 3), stride=(1, 1), padding=(1, 1)\n",
      "        (activation): ReLU()\n",
      "      )\n",
      "      (objectness_logits): Conv2d(256, 3, kernel_size=(1, 1), stride=(1, 1))\n",
      "      (anchor_deltas): Conv2d(256, 12, kernel_size=(1, 1), stride=(1, 1))\n",
      "    )\n",
      "    (anchor_generator): DefaultAnchorGenerator(\n",
      "      (cell_anchors): BufferList()\n",
      "    )\n",
      "  )\n",
      "  (roi_heads): StandardROIHeads(\n",
      "    (box_pooler): ROIPooler(\n",
      "      (level_poolers): ModuleList(\n",
      "        (0): ROIAlign(output_size=(7, 7), spatial_scale=0.25, sampling_ratio=0, aligned=True)\n",
      "        (1): ROIAlign(output_size=(7, 7), spatial_scale=0.125, sampling_ratio=0, aligned=True)\n",
      "        (2): ROIAlign(output_size=(7, 7), spatial_scale=0.0625, sampling_ratio=0, aligned=True)\n",
      "        (3): ROIAlign(output_size=(7, 7), spatial_scale=0.03125, sampling_ratio=0, aligned=True)\n",
      "      )\n",
      "    )\n",
      "    (box_head): FastRCNNConvFCHead(\n",
      "      (flatten): Flatten(start_dim=1, end_dim=-1)\n",
      "      (fc1): Linear(in_features=12544, out_features=1024, bias=True)\n",
      "      (fc_relu1): ReLU()\n",
      "      (fc2): Linear(in_features=1024, out_features=1024, bias=True)\n",
      "      (fc_relu2): ReLU()\n",
      "    )\n",
      "    (box_predictor): FastRCNNOutputLayers(\n",
      "      (cls_score): Linear(in_features=1024, out_features=4, bias=True)\n",
      "      (bbox_pred): Linear(in_features=1024, out_features=12, bias=True)\n",
      "    )\n",
      "    (mask_pooler): ROIPooler(\n",
      "      (level_poolers): ModuleList(\n",
      "        (0): ROIAlign(output_size=(14, 14), spatial_scale=0.25, sampling_ratio=0, aligned=True)\n",
      "        (1): ROIAlign(output_size=(14, 14), spatial_scale=0.125, sampling_ratio=0, aligned=True)\n",
      "        (2): ROIAlign(output_size=(14, 14), spatial_scale=0.0625, sampling_ratio=0, aligned=True)\n",
      "        (3): ROIAlign(output_size=(14, 14), spatial_scale=0.03125, sampling_ratio=0, aligned=True)\n",
      "      )\n",
      "    )\n",
      "    (mask_head): MaskRCNNConvUpsampleHead(\n",
      "      (mask_fcn1): Conv2d(\n",
      "        256, 256, kernel_size=(3, 3), stride=(1, 1), padding=(1, 1)\n",
      "        (activation): ReLU()\n",
      "      )\n",
      "      (mask_fcn2): Conv2d(\n",
      "        256, 256, kernel_size=(3, 3), stride=(1, 1), padding=(1, 1)\n",
      "        (activation): ReLU()\n",
      "      )\n",
      "      (mask_fcn3): Conv2d(\n",
      "        256, 256, kernel_size=(3, 3), stride=(1, 1), padding=(1, 1)\n",
      "        (activation): ReLU()\n",
      "      )\n",
      "      (mask_fcn4): Conv2d(\n",
      "        256, 256, kernel_size=(3, 3), stride=(1, 1), padding=(1, 1)\n",
      "        (activation): ReLU()\n",
      "      )\n",
      "      (deconv): ConvTranspose2d(256, 256, kernel_size=(2, 2), stride=(2, 2))\n",
      "      (deconv_relu): ReLU()\n",
      "      (predictor): Conv2d(256, 3, kernel_size=(1, 1), stride=(1, 1))\n",
      "    )\n",
      "  )\n",
      ")\n",
      "\u001b[32m[12/17 12:55:17 d2.data.datasets.coco]: \u001b[0mLoaded 64 images in COCO format from coco/annotations/train.json\n"
     ]
    },
    {
     "name": "stderr",
     "output_type": "stream",
     "text": [
      "[\u001b[1m\u001b[37mINFO   \u001b[0m] \u001b[36mbuild\u001b[0m:\u001b[36mfilter_images_with_only_crowd_annotations\u001b[0m:\u001b[36m67\u001b[0m - \u001b[1m\u001b[37mRemoved 3 images with no usable annotations. 61 images left.\u001b[0m\n"
     ]
    },
    {
     "name": "stdout",
     "output_type": "stream",
     "text": [
      "\u001b[32m[12/17 12:55:17 d2.data.build]: \u001b[0mRemoved 3 images with no usable annotations. 61 images left.\n"
     ]
    },
    {
     "name": "stderr",
     "output_type": "stream",
     "text": [
      "[\u001b[1m\u001b[37mINFO   \u001b[0m] \u001b[36mlogger\u001b[0m:\u001b[36mlog_first_n\u001b[0m:\u001b[36m172\u001b[0m - \u001b[1m\u001b[37mDistribution of instances among all 3 categories:\n",
      "\u001b[36m|  category  | #instances   |   category    | #instances   |  category  | #instances   |\n",
      "|:----------:|:-------------|:-------------:|:-------------|:----------:|:-------------|\n",
      "|    glue    | 194          | injection_h.. | 90           |  pin_glue  | 18           |\n",
      "|            |              |               |              |            |              |\n",
      "|   total    | 302          |               |              |            |              |\u001b[0m\u001b[0m\n"
     ]
    },
    {
     "name": "stdout",
     "output_type": "stream",
     "text": [
      "\u001b[32m[12/17 12:55:17 d2.data.build]: \u001b[0mDistribution of instances among all 3 categories:\n",
      "\u001b[36m|  category  | #instances   |   category    | #instances   |  category  | #instances   |\n",
      "|:----------:|:-------------|:-------------:|:-------------|:----------:|:-------------|\n",
      "|    glue    | 194          | injection_h.. | 90           |  pin_glue  | 18           |\n",
      "|            |              |               |              |            |              |\n",
      "|   total    | 302          |               |              |            |              |\u001b[0m\n"
     ]
    },
    {
     "name": "stderr",
     "output_type": "stream",
     "text": [
      "[\u001b[1m\u001b[37mINFO   \u001b[0m] \u001b[36mdataset_mapper\u001b[0m:\u001b[36m__init__\u001b[0m:\u001b[36m83\u001b[0m - \u001b[1m\u001b[37m[DatasetMapper] Augmentations used in training: [ResizeShortestEdge(short_edge_length=(640, 672, 704, 736, 768, 800), max_size=1333, sample_style='choice'), RandomFlip()]\u001b[0m\n"
     ]
    },
    {
     "name": "stdout",
     "output_type": "stream",
     "text": [
      "\u001b[32m[12/17 12:55:17 d2.data.dataset_mapper]: \u001b[0m[DatasetMapper] Augmentations used in training: [ResizeShortestEdge(short_edge_length=(640, 672, 704, 736, 768, 800), max_size=1333, sample_style='choice'), RandomFlip()]\n"
     ]
    },
    {
     "name": "stderr",
     "output_type": "stream",
     "text": [
      "[\u001b[1m\u001b[37mINFO   \u001b[0m] \u001b[36mbuild\u001b[0m:\u001b[36m_train_loader_from_config\u001b[0m:\u001b[36m353\u001b[0m - \u001b[1m\u001b[37mUsing training sampler TrainingSampler\u001b[0m\n"
     ]
    },
    {
     "name": "stdout",
     "output_type": "stream",
     "text": [
      "\u001b[32m[12/17 12:55:17 d2.data.build]: \u001b[0mUsing training sampler TrainingSampler\n"
     ]
    },
    {
     "name": "stderr",
     "output_type": "stream",
     "text": [
      "[\u001b[1m\u001b[37mINFO   \u001b[0m] \u001b[36mcommon\u001b[0m:\u001b[36m__init__\u001b[0m:\u001b[36m135\u001b[0m - \u001b[1m\u001b[37mSerializing 61 elements to byte tensors and concatenating them all ...\u001b[0m\n"
     ]
    },
    {
     "name": "stdout",
     "output_type": "stream",
     "text": [
      "\u001b[32m[12/17 12:55:17 d2.data.common]: \u001b[0mSerializing 61 elements to byte tensors and concatenating them all ...\n"
     ]
    },
    {
     "name": "stderr",
     "output_type": "stream",
     "text": [
      "[\u001b[1m\u001b[37mINFO   \u001b[0m] \u001b[36mcommon\u001b[0m:\u001b[36m__init__\u001b[0m:\u001b[36m144\u001b[0m - \u001b[1m\u001b[37mSerialized dataset takes 0.09 MiB\u001b[0m\n"
     ]
    },
    {
     "name": "stdout",
     "output_type": "stream",
     "text": [
      "\u001b[32m[12/17 12:55:17 d2.data.common]: \u001b[0mSerialized dataset takes 0.09 MiB\n"
     ]
    },
    {
     "name": "stderr",
     "output_type": "stream",
     "text": [
      "[\u001b[1m\u001b[37mINFO   \u001b[0m] \u001b[36mcheckpoint\u001b[0m:\u001b[36mload\u001b[0m:\u001b[36m150\u001b[0m - \u001b[1m\u001b[37m[Checkpointer] Loading from ../weights/model_final_a3ec72.pkl ...\u001b[0m\n",
      "[\u001b[1m\u001b[37mINFO   \u001b[0m] \u001b[36mdetection_checkpoint\u001b[0m:\u001b[36m_load_file\u001b[0m:\u001b[36m65\u001b[0m - \u001b[1m\u001b[37mReading a file from 'Detectron2 Model Zoo'\u001b[0m\n",
      "[\u001b[1m\u001b[33mWARNING\u001b[0m] \u001b[36mcheckpoint\u001b[0m:\u001b[36m_log_incompatible_keys\u001b[0m:\u001b[36m338\u001b[0m - \u001b[1m\u001b[33mSkip loading parameter 'roi_heads.box_predictor.cls_score.weight' to the model due to incompatible shapes: (81, 1024) in the checkpoint but (4, 1024) in the model! You might want to double check if this is expected.\u001b[0m\n",
      "[\u001b[1m\u001b[33mWARNING\u001b[0m] \u001b[36mcheckpoint\u001b[0m:\u001b[36m_log_incompatible_keys\u001b[0m:\u001b[36m338\u001b[0m - \u001b[1m\u001b[33mSkip loading parameter 'roi_heads.box_predictor.cls_score.bias' to the model due to incompatible shapes: (81,) in the checkpoint but (4,) in the model! You might want to double check if this is expected.\u001b[0m\n",
      "[\u001b[1m\u001b[33mWARNING\u001b[0m] \u001b[36mcheckpoint\u001b[0m:\u001b[36m_log_incompatible_keys\u001b[0m:\u001b[36m338\u001b[0m - \u001b[1m\u001b[33mSkip loading parameter 'roi_heads.box_predictor.bbox_pred.weight' to the model due to incompatible shapes: (320, 1024) in the checkpoint but (12, 1024) in the model! You might want to double check if this is expected.\u001b[0m\n",
      "[\u001b[1m\u001b[33mWARNING\u001b[0m] \u001b[36mcheckpoint\u001b[0m:\u001b[36m_log_incompatible_keys\u001b[0m:\u001b[36m338\u001b[0m - \u001b[1m\u001b[33mSkip loading parameter 'roi_heads.box_predictor.bbox_pred.bias' to the model due to incompatible shapes: (320,) in the checkpoint but (12,) in the model! You might want to double check if this is expected.\u001b[0m\n",
      "[\u001b[1m\u001b[33mWARNING\u001b[0m] \u001b[36mcheckpoint\u001b[0m:\u001b[36m_log_incompatible_keys\u001b[0m:\u001b[36m338\u001b[0m - \u001b[1m\u001b[33mSkip loading parameter 'roi_heads.mask_head.predictor.weight' to the model due to incompatible shapes: (80, 256, 1, 1) in the checkpoint but (3, 256, 1, 1) in the model! You might want to double check if this is expected.\u001b[0m\n",
      "[\u001b[1m\u001b[33mWARNING\u001b[0m] \u001b[36mcheckpoint\u001b[0m:\u001b[36m_log_incompatible_keys\u001b[0m:\u001b[36m338\u001b[0m - \u001b[1m\u001b[33mSkip loading parameter 'roi_heads.mask_head.predictor.bias' to the model due to incompatible shapes: (80,) in the checkpoint but (3,) in the model! You might want to double check if this is expected.\u001b[0m\n",
      "[\u001b[1m\u001b[33mWARNING\u001b[0m] \u001b[36mcheckpoint\u001b[0m:\u001b[36m_log_incompatible_keys\u001b[0m:\u001b[36m350\u001b[0m - \u001b[1m\u001b[33mSome model parameters or buffers are not found in the checkpoint:\n",
      "\u001b[34mroi_heads.box_predictor.bbox_pred.{bias, weight}\u001b[0m\n",
      "\u001b[34mroi_heads.box_predictor.cls_score.{bias, weight}\u001b[0m\n",
      "\u001b[34mroi_heads.mask_head.predictor.{bias, weight}\u001b[0m\u001b[0m\n",
      "[\u001b[1m\u001b[37mINFO   \u001b[0m] \u001b[36mtrain_loop\u001b[0m:\u001b[36mtrain\u001b[0m:\u001b[36m139\u001b[0m - \u001b[1m\u001b[37mStarting training from iteration 0\u001b[0m\n"
     ]
    },
    {
     "name": "stdout",
     "output_type": "stream",
     "text": [
      "\u001b[32m[12/17 12:55:18 d2.engine.train_loop]: \u001b[0mStarting training from iteration 0\n"
     ]
    },
    {
     "name": "stderr",
     "output_type": "stream",
     "text": [
      "[\u001b[1m\u001b[37mINFO   \u001b[0m] \u001b[36mevents\u001b[0m:\u001b[36mwrite\u001b[0m:\u001b[36m255\u001b[0m - \u001b[1m\u001b[37m eta: 0:04:42  iter: 19  total_loss: 3.806  loss_cls: 1.371  loss_box_reg: 0.3082  loss_mask: 0.6939  loss_rpn_cls: 1.284  loss_rpn_loc: 0.124  time: 0.4675  data_time: 0.0248  lr: 8.1588e-06  max_mem: 5967M\u001b[0m\n"
     ]
    },
    {
     "name": "stdout",
     "output_type": "stream",
     "text": [
      "\u001b[32m[12/17 12:55:29 d2.utils.events]: \u001b[0m eta: 0:04:42  iter: 19  total_loss: 3.806  loss_cls: 1.371  loss_box_reg: 0.3082  loss_mask: 0.6939  loss_rpn_cls: 1.284  loss_rpn_loc: 0.124  time: 0.4675  data_time: 0.0248  lr: 8.1588e-06  max_mem: 5967M\n"
     ]
    },
    {
     "name": "stderr",
     "output_type": "stream",
     "text": [
      "[\u001b[1m\u001b[37mINFO   \u001b[0m] \u001b[36mevents\u001b[0m:\u001b[36mwrite\u001b[0m:\u001b[36m255\u001b[0m - \u001b[1m\u001b[37m eta: 0:04:18  iter: 39  total_loss: 3.35  loss_cls: 1.132  loss_box_reg: 0.3936  loss_mask: 0.6881  loss_rpn_cls: 0.9241  loss_rpn_loc: 0.1297  time: 0.4588  data_time: 0.0059  lr: 1.6484e-05  max_mem: 5967M\u001b[0m\n"
     ]
    },
    {
     "name": "stdout",
     "output_type": "stream",
     "text": [
      "\u001b[32m[12/17 12:55:38 d2.utils.events]: \u001b[0m eta: 0:04:18  iter: 39  total_loss: 3.35  loss_cls: 1.132  loss_box_reg: 0.3936  loss_mask: 0.6881  loss_rpn_cls: 0.9241  loss_rpn_loc: 0.1297  time: 0.4588  data_time: 0.0059  lr: 1.6484e-05  max_mem: 5967M\n"
     ]
    },
    {
     "name": "stderr",
     "output_type": "stream",
     "text": [
      "[\u001b[1m\u001b[37mINFO   \u001b[0m] \u001b[36mevents\u001b[0m:\u001b[36mwrite\u001b[0m:\u001b[36m255\u001b[0m - \u001b[1m\u001b[37m eta: 0:04:11  iter: 59  total_loss: 2.462  loss_cls: 0.8662  loss_box_reg: 0.5035  loss_mask: 0.6765  loss_rpn_cls: 0.2172  loss_rpn_loc: 0.07866  time: 0.4641  data_time: 0.0057  lr: 2.4809e-05  max_mem: 5967M\u001b[0m\n"
     ]
    },
    {
     "name": "stdout",
     "output_type": "stream",
     "text": [
      "\u001b[32m[12/17 12:55:47 d2.utils.events]: \u001b[0m eta: 0:04:11  iter: 59  total_loss: 2.462  loss_cls: 0.8662  loss_box_reg: 0.5035  loss_mask: 0.6765  loss_rpn_cls: 0.2172  loss_rpn_loc: 0.07866  time: 0.4641  data_time: 0.0057  lr: 2.4809e-05  max_mem: 5967M\n"
     ]
    },
    {
     "name": "stderr",
     "output_type": "stream",
     "text": [
      "[\u001b[1m\u001b[37mINFO   \u001b[0m] \u001b[36mevents\u001b[0m:\u001b[36mwrite\u001b[0m:\u001b[36m255\u001b[0m - \u001b[1m\u001b[37m eta: 0:04:12  iter: 79  total_loss: 2.034  loss_cls: 0.6521  loss_box_reg: 0.5263  loss_mask: 0.6571  loss_rpn_cls: 0.1296  loss_rpn_loc: 0.06215  time: 0.4664  data_time: 0.0057  lr: 3.3134e-05  max_mem: 5967M\u001b[0m\n"
     ]
    },
    {
     "name": "stdout",
     "output_type": "stream",
     "text": [
      "\u001b[32m[12/17 12:55:58 d2.utils.events]: \u001b[0m eta: 0:04:12  iter: 79  total_loss: 2.034  loss_cls: 0.6521  loss_box_reg: 0.5263  loss_mask: 0.6571  loss_rpn_cls: 0.1296  loss_rpn_loc: 0.06215  time: 0.4664  data_time: 0.0057  lr: 3.3134e-05  max_mem: 5967M\n"
     ]
    },
    {
     "name": "stderr",
     "output_type": "stream",
     "text": [
      "[\u001b[1m\u001b[37mINFO   \u001b[0m] \u001b[36mevents\u001b[0m:\u001b[36mwrite\u001b[0m:\u001b[36m255\u001b[0m - \u001b[1m\u001b[37m eta: 0:04:03  iter: 99  total_loss: 1.609  loss_cls: 0.4699  loss_box_reg: 0.4081  loss_mask: 0.6341  loss_rpn_cls: 0.07526  loss_rpn_loc: 0.07549  time: 0.4670  data_time: 0.0058  lr: 4.1459e-05  max_mem: 5967M\u001b[0m\n"
     ]
    },
    {
     "name": "stdout",
     "output_type": "stream",
     "text": [
      "\u001b[32m[12/17 12:56:07 d2.utils.events]: \u001b[0m eta: 0:04:03  iter: 99  total_loss: 1.609  loss_cls: 0.4699  loss_box_reg: 0.4081  loss_mask: 0.6341  loss_rpn_cls: 0.07526  loss_rpn_loc: 0.07549  time: 0.4670  data_time: 0.0058  lr: 4.1459e-05  max_mem: 5967M\n"
     ]
    },
    {
     "name": "stderr",
     "output_type": "stream",
     "text": [
      "[\u001b[1m\u001b[37mINFO   \u001b[0m] \u001b[36mevents\u001b[0m:\u001b[36mwrite\u001b[0m:\u001b[36m255\u001b[0m - \u001b[1m\u001b[37m eta: 0:03:53  iter: 119  total_loss: 1.621  loss_cls: 0.4018  loss_box_reg: 0.5045  loss_mask: 0.6024  loss_rpn_cls: 0.06081  loss_rpn_loc: 0.09409  time: 0.4695  data_time: 0.0056  lr: 4.9784e-05  max_mem: 5967M\u001b[0m\n"
     ]
    },
    {
     "name": "stdout",
     "output_type": "stream",
     "text": [
      "\u001b[32m[12/17 12:56:17 d2.utils.events]: \u001b[0m eta: 0:03:53  iter: 119  total_loss: 1.621  loss_cls: 0.4018  loss_box_reg: 0.5045  loss_mask: 0.6024  loss_rpn_cls: 0.06081  loss_rpn_loc: 0.09409  time: 0.4695  data_time: 0.0056  lr: 4.9784e-05  max_mem: 5967M\n"
     ]
    },
    {
     "name": "stderr",
     "output_type": "stream",
     "text": [
      "[\u001b[1m\u001b[37mINFO   \u001b[0m] \u001b[36mevents\u001b[0m:\u001b[36mwrite\u001b[0m:\u001b[36m255\u001b[0m - \u001b[1m\u001b[37m eta: 0:03:43  iter: 139  total_loss: 1.622  loss_cls: 0.4031  loss_box_reg: 0.4745  loss_mask: 0.56  loss_rpn_cls: 0.04354  loss_rpn_loc: 0.06573  time: 0.4695  data_time: 0.0061  lr: 5.8109e-05  max_mem: 5967M\u001b[0m\n"
     ]
    },
    {
     "name": "stdout",
     "output_type": "stream",
     "text": [
      "\u001b[32m[12/17 12:56:26 d2.utils.events]: \u001b[0m eta: 0:03:43  iter: 139  total_loss: 1.622  loss_cls: 0.4031  loss_box_reg: 0.4745  loss_mask: 0.56  loss_rpn_cls: 0.04354  loss_rpn_loc: 0.06573  time: 0.4695  data_time: 0.0061  lr: 5.8109e-05  max_mem: 5967M\n"
     ]
    },
    {
     "name": "stderr",
     "output_type": "stream",
     "text": [
      "[\u001b[1m\u001b[37mINFO   \u001b[0m] \u001b[36mevents\u001b[0m:\u001b[36mwrite\u001b[0m:\u001b[36m255\u001b[0m - \u001b[1m\u001b[37m eta: 0:03:34  iter: 159  total_loss: 1.552  loss_cls: 0.365  loss_box_reg: 0.4811  loss_mask: 0.5307  loss_rpn_cls: 0.04851  loss_rpn_loc: 0.1015  time: 0.4717  data_time: 0.0061  lr: 6.6434e-05  max_mem: 5967M\u001b[0m\n"
     ]
    },
    {
     "name": "stdout",
     "output_type": "stream",
     "text": [
      "\u001b[32m[12/17 12:56:36 d2.utils.events]: \u001b[0m eta: 0:03:34  iter: 159  total_loss: 1.552  loss_cls: 0.365  loss_box_reg: 0.4811  loss_mask: 0.5307  loss_rpn_cls: 0.04851  loss_rpn_loc: 0.1015  time: 0.4717  data_time: 0.0061  lr: 6.6434e-05  max_mem: 5967M\n"
     ]
    },
    {
     "name": "stderr",
     "output_type": "stream",
     "text": [
      "[\u001b[1m\u001b[37mINFO   \u001b[0m] \u001b[36mevents\u001b[0m:\u001b[36mwrite\u001b[0m:\u001b[36m255\u001b[0m - \u001b[1m\u001b[37m eta: 0:03:24  iter: 179  total_loss: 1.475  loss_cls: 0.3442  loss_box_reg: 0.5234  loss_mask: 0.4817  loss_rpn_cls: 0.04522  loss_rpn_loc: 0.09016  time: 0.4708  data_time: 0.0059  lr: 7.4759e-05  max_mem: 5967M\u001b[0m\n"
     ]
    },
    {
     "name": "stdout",
     "output_type": "stream",
     "text": [
      "\u001b[32m[12/17 12:56:45 d2.utils.events]: \u001b[0m eta: 0:03:24  iter: 179  total_loss: 1.475  loss_cls: 0.3442  loss_box_reg: 0.5234  loss_mask: 0.4817  loss_rpn_cls: 0.04522  loss_rpn_loc: 0.09016  time: 0.4708  data_time: 0.0059  lr: 7.4759e-05  max_mem: 5967M\n"
     ]
    },
    {
     "name": "stderr",
     "output_type": "stream",
     "text": [
      "[\u001b[1m\u001b[37mINFO   \u001b[0m] \u001b[36mevents\u001b[0m:\u001b[36mwrite\u001b[0m:\u001b[36m255\u001b[0m - \u001b[1m\u001b[37m eta: 0:03:14  iter: 199  total_loss: 1.386  loss_cls: 0.3072  loss_box_reg: 0.4781  loss_mask: 0.4648  loss_rpn_cls: 0.0362  loss_rpn_loc: 0.07062  time: 0.4711  data_time: 0.0060  lr: 8.3084e-05  max_mem: 5967M\u001b[0m\n"
     ]
    },
    {
     "name": "stdout",
     "output_type": "stream",
     "text": [
      "\u001b[32m[12/17 12:56:55 d2.utils.events]: \u001b[0m eta: 0:03:14  iter: 199  total_loss: 1.386  loss_cls: 0.3072  loss_box_reg: 0.4781  loss_mask: 0.4648  loss_rpn_cls: 0.0362  loss_rpn_loc: 0.07062  time: 0.4711  data_time: 0.0060  lr: 8.3084e-05  max_mem: 5967M\n"
     ]
    },
    {
     "name": "stderr",
     "output_type": "stream",
     "text": [
      "[\u001b[1m\u001b[37mINFO   \u001b[0m] \u001b[36mevents\u001b[0m:\u001b[36mwrite\u001b[0m:\u001b[36m255\u001b[0m - \u001b[1m\u001b[37m eta: 0:03:05  iter: 219  total_loss: 1.342  loss_cls: 0.2952  loss_box_reg: 0.4874  loss_mask: 0.4319  loss_rpn_cls: 0.03302  loss_rpn_loc: 0.07135  time: 0.4706  data_time: 0.0061  lr: 9.1409e-05  max_mem: 5967M\u001b[0m\n"
     ]
    },
    {
     "name": "stdout",
     "output_type": "stream",
     "text": [
      "\u001b[32m[12/17 12:57:04 d2.utils.events]: \u001b[0m eta: 0:03:05  iter: 219  total_loss: 1.342  loss_cls: 0.2952  loss_box_reg: 0.4874  loss_mask: 0.4319  loss_rpn_cls: 0.03302  loss_rpn_loc: 0.07135  time: 0.4706  data_time: 0.0061  lr: 9.1409e-05  max_mem: 5967M\n"
     ]
    },
    {
     "name": "stderr",
     "output_type": "stream",
     "text": [
      "[\u001b[1m\u001b[37mINFO   \u001b[0m] \u001b[36mevents\u001b[0m:\u001b[36mwrite\u001b[0m:\u001b[36m255\u001b[0m - \u001b[1m\u001b[37m eta: 0:02:55  iter: 239  total_loss: 1.341  loss_cls: 0.2966  loss_box_reg: 0.5027  loss_mask: 0.4285  loss_rpn_cls: 0.03276  loss_rpn_loc: 0.07088  time: 0.4710  data_time: 0.0062  lr: 9.9734e-05  max_mem: 5967M\u001b[0m\n"
     ]
    },
    {
     "name": "stdout",
     "output_type": "stream",
     "text": [
      "\u001b[32m[12/17 12:57:14 d2.utils.events]: \u001b[0m eta: 0:02:55  iter: 239  total_loss: 1.341  loss_cls: 0.2966  loss_box_reg: 0.5027  loss_mask: 0.4285  loss_rpn_cls: 0.03276  loss_rpn_loc: 0.07088  time: 0.4710  data_time: 0.0062  lr: 9.9734e-05  max_mem: 5967M\n"
     ]
    },
    {
     "name": "stderr",
     "output_type": "stream",
     "text": [
      "[\u001b[1m\u001b[37mINFO   \u001b[0m] \u001b[36mevents\u001b[0m:\u001b[36mwrite\u001b[0m:\u001b[36m255\u001b[0m - \u001b[1m\u001b[37m eta: 0:02:45  iter: 259  total_loss: 1.319  loss_cls: 0.2927  loss_box_reg: 0.5095  loss_mask: 0.3915  loss_rpn_cls: 0.03081  loss_rpn_loc: 0.07715  time: 0.4710  data_time: 0.0059  lr: 0.00010806  max_mem: 5967M\u001b[0m\n"
     ]
    },
    {
     "name": "stdout",
     "output_type": "stream",
     "text": [
      "\u001b[32m[12/17 12:57:23 d2.utils.events]: \u001b[0m eta: 0:02:45  iter: 259  total_loss: 1.319  loss_cls: 0.2927  loss_box_reg: 0.5095  loss_mask: 0.3915  loss_rpn_cls: 0.03081  loss_rpn_loc: 0.07715  time: 0.4710  data_time: 0.0059  lr: 0.00010806  max_mem: 5967M\n"
     ]
    },
    {
     "name": "stderr",
     "output_type": "stream",
     "text": [
      "[\u001b[1m\u001b[37mINFO   \u001b[0m] \u001b[36mevents\u001b[0m:\u001b[36mwrite\u001b[0m:\u001b[36m255\u001b[0m - \u001b[1m\u001b[37m eta: 0:02:35  iter: 279  total_loss: 1.26  loss_cls: 0.2564  loss_box_reg: 0.514  loss_mask: 0.3723  loss_rpn_cls: 0.0285  loss_rpn_loc: 0.07761  time: 0.4719  data_time: 0.0061  lr: 0.00011638  max_mem: 5967M\u001b[0m\n"
     ]
    },
    {
     "name": "stdout",
     "output_type": "stream",
     "text": [
      "\u001b[32m[12/17 12:57:33 d2.utils.events]: \u001b[0m eta: 0:02:35  iter: 279  total_loss: 1.26  loss_cls: 0.2564  loss_box_reg: 0.514  loss_mask: 0.3723  loss_rpn_cls: 0.0285  loss_rpn_loc: 0.07761  time: 0.4719  data_time: 0.0061  lr: 0.00011638  max_mem: 5967M\n"
     ]
    },
    {
     "name": "stderr",
     "output_type": "stream",
     "text": [
      "[\u001b[1m\u001b[37mINFO   \u001b[0m] \u001b[36mevents\u001b[0m:\u001b[36mwrite\u001b[0m:\u001b[36m255\u001b[0m - \u001b[1m\u001b[37m eta: 0:02:25  iter: 299  total_loss: 1.23  loss_cls: 0.2459  loss_box_reg: 0.4736  loss_mask: 0.3352  loss_rpn_cls: 0.0244  loss_rpn_loc: 0.08068  time: 0.4717  data_time: 0.0059  lr: 0.00012471  max_mem: 5967M\u001b[0m\n"
     ]
    },
    {
     "name": "stdout",
     "output_type": "stream",
     "text": [
      "\u001b[32m[12/17 12:57:43 d2.utils.events]: \u001b[0m eta: 0:02:25  iter: 299  total_loss: 1.23  loss_cls: 0.2459  loss_box_reg: 0.4736  loss_mask: 0.3352  loss_rpn_cls: 0.0244  loss_rpn_loc: 0.08068  time: 0.4717  data_time: 0.0059  lr: 0.00012471  max_mem: 5967M\n"
     ]
    },
    {
     "name": "stderr",
     "output_type": "stream",
     "text": [
      "[\u001b[1m\u001b[37mINFO   \u001b[0m] \u001b[36mevents\u001b[0m:\u001b[36mwrite\u001b[0m:\u001b[36m255\u001b[0m - \u001b[1m\u001b[37m eta: 0:02:14  iter: 319  total_loss: 1.203  loss_cls: 0.2359  loss_box_reg: 0.4604  loss_mask: 0.3622  loss_rpn_cls: 0.02116  loss_rpn_loc: 0.07382  time: 0.4716  data_time: 0.0059  lr: 0.00013303  max_mem: 5967M\u001b[0m\n"
     ]
    },
    {
     "name": "stdout",
     "output_type": "stream",
     "text": [
      "\u001b[32m[12/17 12:57:52 d2.utils.events]: \u001b[0m eta: 0:02:14  iter: 319  total_loss: 1.203  loss_cls: 0.2359  loss_box_reg: 0.4604  loss_mask: 0.3622  loss_rpn_cls: 0.02116  loss_rpn_loc: 0.07382  time: 0.4716  data_time: 0.0059  lr: 0.00013303  max_mem: 5967M\n"
     ]
    },
    {
     "name": "stderr",
     "output_type": "stream",
     "text": [
      "[\u001b[1m\u001b[37mINFO   \u001b[0m] \u001b[36mevents\u001b[0m:\u001b[36mwrite\u001b[0m:\u001b[36m255\u001b[0m - \u001b[1m\u001b[37m eta: 0:02:04  iter: 339  total_loss: 1.111  loss_cls: 0.2132  loss_box_reg: 0.4246  loss_mask: 0.3509  loss_rpn_cls: 0.02505  loss_rpn_loc: 0.07174  time: 0.4723  data_time: 0.0057  lr: 0.00014136  max_mem: 5967M\u001b[0m\n"
     ]
    },
    {
     "name": "stdout",
     "output_type": "stream",
     "text": [
      "\u001b[32m[12/17 12:58:02 d2.utils.events]: \u001b[0m eta: 0:02:04  iter: 339  total_loss: 1.111  loss_cls: 0.2132  loss_box_reg: 0.4246  loss_mask: 0.3509  loss_rpn_cls: 0.02505  loss_rpn_loc: 0.07174  time: 0.4723  data_time: 0.0057  lr: 0.00014136  max_mem: 5967M\n"
     ]
    },
    {
     "name": "stderr",
     "output_type": "stream",
     "text": [
      "[\u001b[1m\u001b[37mINFO   \u001b[0m] \u001b[36mevents\u001b[0m:\u001b[36mwrite\u001b[0m:\u001b[36m255\u001b[0m - \u001b[1m\u001b[37m eta: 0:01:52  iter: 359  total_loss: 1.016  loss_cls: 0.1907  loss_box_reg: 0.432  loss_mask: 0.3082  loss_rpn_cls: 0.01513  loss_rpn_loc: 0.05401  time: 0.4715  data_time: 0.0057  lr: 0.00014968  max_mem: 5967M\u001b[0m\n"
     ]
    },
    {
     "name": "stdout",
     "output_type": "stream",
     "text": [
      "\u001b[32m[12/17 12:58:11 d2.utils.events]: \u001b[0m eta: 0:01:52  iter: 359  total_loss: 1.016  loss_cls: 0.1907  loss_box_reg: 0.432  loss_mask: 0.3082  loss_rpn_cls: 0.01513  loss_rpn_loc: 0.05401  time: 0.4715  data_time: 0.0057  lr: 0.00014968  max_mem: 5967M\n"
     ]
    },
    {
     "name": "stderr",
     "output_type": "stream",
     "text": [
      "[\u001b[1m\u001b[37mINFO   \u001b[0m] \u001b[36mevents\u001b[0m:\u001b[36mwrite\u001b[0m:\u001b[36m255\u001b[0m - \u001b[1m\u001b[37m eta: 0:01:43  iter: 379  total_loss: 1.029  loss_cls: 0.1807  loss_box_reg: 0.4188  loss_mask: 0.3239  loss_rpn_cls: 0.0204  loss_rpn_loc: 0.07623  time: 0.4722  data_time: 0.0058  lr: 0.00015801  max_mem: 5967M\u001b[0m\n"
     ]
    },
    {
     "name": "stdout",
     "output_type": "stream",
     "text": [
      "\u001b[32m[12/17 12:58:21 d2.utils.events]: \u001b[0m eta: 0:01:43  iter: 379  total_loss: 1.029  loss_cls: 0.1807  loss_box_reg: 0.4188  loss_mask: 0.3239  loss_rpn_cls: 0.0204  loss_rpn_loc: 0.07623  time: 0.4722  data_time: 0.0058  lr: 0.00015801  max_mem: 5967M\n"
     ]
    },
    {
     "name": "stderr",
     "output_type": "stream",
     "text": [
      "[\u001b[1m\u001b[37mINFO   \u001b[0m] \u001b[36mevents\u001b[0m:\u001b[36mwrite\u001b[0m:\u001b[36m255\u001b[0m - \u001b[1m\u001b[37m eta: 0:01:33  iter: 399  total_loss: 0.9782  loss_cls: 0.1588  loss_box_reg: 0.4022  loss_mask: 0.2844  loss_rpn_cls: 0.01251  loss_rpn_loc: 0.04509  time: 0.4722  data_time: 0.0058  lr: 0.00016633  max_mem: 5967M\u001b[0m\n"
     ]
    },
    {
     "name": "stdout",
     "output_type": "stream",
     "text": [
      "\u001b[32m[12/17 12:58:30 d2.utils.events]: \u001b[0m eta: 0:01:33  iter: 399  total_loss: 0.9782  loss_cls: 0.1588  loss_box_reg: 0.4022  loss_mask: 0.2844  loss_rpn_cls: 0.01251  loss_rpn_loc: 0.04509  time: 0.4722  data_time: 0.0058  lr: 0.00016633  max_mem: 5967M\n"
     ]
    },
    {
     "name": "stderr",
     "output_type": "stream",
     "text": [
      "[\u001b[1m\u001b[37mINFO   \u001b[0m] \u001b[36mevents\u001b[0m:\u001b[36mwrite\u001b[0m:\u001b[36m255\u001b[0m - \u001b[1m\u001b[37m eta: 0:01:24  iter: 419  total_loss: 0.9936  loss_cls: 0.1575  loss_box_reg: 0.4092  loss_mask: 0.294  loss_rpn_cls: 0.01799  loss_rpn_loc: 0.08022  time: 0.4722  data_time: 0.0059  lr: 0.00017466  max_mem: 5967M\u001b[0m\n"
     ]
    },
    {
     "name": "stdout",
     "output_type": "stream",
     "text": [
      "\u001b[32m[12/17 12:58:40 d2.utils.events]: \u001b[0m eta: 0:01:24  iter: 419  total_loss: 0.9936  loss_cls: 0.1575  loss_box_reg: 0.4092  loss_mask: 0.294  loss_rpn_cls: 0.01799  loss_rpn_loc: 0.08022  time: 0.4722  data_time: 0.0059  lr: 0.00017466  max_mem: 5967M\n"
     ]
    },
    {
     "name": "stderr",
     "output_type": "stream",
     "text": [
      "[\u001b[1m\u001b[37mINFO   \u001b[0m] \u001b[36mevents\u001b[0m:\u001b[36mwrite\u001b[0m:\u001b[36m255\u001b[0m - \u001b[1m\u001b[37m eta: 0:01:16  iter: 439  total_loss: 0.9409  loss_cls: 0.1423  loss_box_reg: 0.4041  loss_mask: 0.2906  loss_rpn_cls: 0.01118  loss_rpn_loc: 0.06506  time: 0.4726  data_time: 0.0059  lr: 0.00018298  max_mem: 5967M\u001b[0m\n"
     ]
    },
    {
     "name": "stdout",
     "output_type": "stream",
     "text": [
      "\u001b[32m[12/17 12:58:49 d2.utils.events]: \u001b[0m eta: 0:01:16  iter: 439  total_loss: 0.9409  loss_cls: 0.1423  loss_box_reg: 0.4041  loss_mask: 0.2906  loss_rpn_cls: 0.01118  loss_rpn_loc: 0.06506  time: 0.4726  data_time: 0.0059  lr: 0.00018298  max_mem: 5967M\n"
     ]
    },
    {
     "name": "stderr",
     "output_type": "stream",
     "text": [
      "[\u001b[1m\u001b[37mINFO   \u001b[0m] \u001b[36mevents\u001b[0m:\u001b[36mwrite\u001b[0m:\u001b[36m255\u001b[0m - \u001b[1m\u001b[37m eta: 0:01:08  iter: 459  total_loss: 0.9675  loss_cls: 0.154  loss_box_reg: 0.3979  loss_mask: 0.2851  loss_rpn_cls: 0.01588  loss_rpn_loc: 0.05745  time: 0.4734  data_time: 0.0059  lr: 0.00019131  max_mem: 5967M\u001b[0m\n"
     ]
    },
    {
     "name": "stdout",
     "output_type": "stream",
     "text": [
      "\u001b[32m[12/17 12:58:59 d2.utils.events]: \u001b[0m eta: 0:01:08  iter: 459  total_loss: 0.9675  loss_cls: 0.154  loss_box_reg: 0.3979  loss_mask: 0.2851  loss_rpn_cls: 0.01588  loss_rpn_loc: 0.05745  time: 0.4734  data_time: 0.0059  lr: 0.00019131  max_mem: 5967M\n"
     ]
    },
    {
     "name": "stderr",
     "output_type": "stream",
     "text": [
      "[\u001b[1m\u001b[37mINFO   \u001b[0m] \u001b[36mevents\u001b[0m:\u001b[36mwrite\u001b[0m:\u001b[36m255\u001b[0m - \u001b[1m\u001b[37m eta: 0:00:58  iter: 479  total_loss: 0.963  loss_cls: 0.1363  loss_box_reg: 0.401  loss_mask: 0.2997  loss_rpn_cls: 0.014  loss_rpn_loc: 0.07459  time: 0.4736  data_time: 0.0059  lr: 0.00019963  max_mem: 5967M\u001b[0m\n"
     ]
    },
    {
     "name": "stdout",
     "output_type": "stream",
     "text": [
      "\u001b[32m[12/17 12:59:09 d2.utils.events]: \u001b[0m eta: 0:00:58  iter: 479  total_loss: 0.963  loss_cls: 0.1363  loss_box_reg: 0.401  loss_mask: 0.2997  loss_rpn_cls: 0.014  loss_rpn_loc: 0.07459  time: 0.4736  data_time: 0.0059  lr: 0.00019963  max_mem: 5967M\n"
     ]
    },
    {
     "name": "stderr",
     "output_type": "stream",
     "text": [
      "[\u001b[1m\u001b[37mINFO   \u001b[0m] \u001b[36mevents\u001b[0m:\u001b[36mwrite\u001b[0m:\u001b[36m255\u001b[0m - \u001b[1m\u001b[37m eta: 0:00:48  iter: 499  total_loss: 0.8544  loss_cls: 0.1089  loss_box_reg: 0.3428  loss_mask: 0.2754  loss_rpn_cls: 0.009547  loss_rpn_loc: 0.0547  time: 0.4741  data_time: 0.0058  lr: 0.00020796  max_mem: 5967M\u001b[0m\n"
     ]
    },
    {
     "name": "stdout",
     "output_type": "stream",
     "text": [
      "\u001b[32m[12/17 12:59:19 d2.utils.events]: \u001b[0m eta: 0:00:48  iter: 499  total_loss: 0.8544  loss_cls: 0.1089  loss_box_reg: 0.3428  loss_mask: 0.2754  loss_rpn_cls: 0.009547  loss_rpn_loc: 0.0547  time: 0.4741  data_time: 0.0058  lr: 0.00020796  max_mem: 5967M\n"
     ]
    },
    {
     "name": "stderr",
     "output_type": "stream",
     "text": [
      "[\u001b[1m\u001b[37mINFO   \u001b[0m] \u001b[36mevents\u001b[0m:\u001b[36mwrite\u001b[0m:\u001b[36m255\u001b[0m - \u001b[1m\u001b[37m eta: 0:00:39  iter: 519  total_loss: 0.8909  loss_cls: 0.1255  loss_box_reg: 0.3396  loss_mask: 0.2776  loss_rpn_cls: 0.009838  loss_rpn_loc: 0.06767  time: 0.4745  data_time: 0.0059  lr: 0.00021628  max_mem: 5967M\u001b[0m\n"
     ]
    },
    {
     "name": "stdout",
     "output_type": "stream",
     "text": [
      "\u001b[32m[12/17 12:59:28 d2.utils.events]: \u001b[0m eta: 0:00:39  iter: 519  total_loss: 0.8909  loss_cls: 0.1255  loss_box_reg: 0.3396  loss_mask: 0.2776  loss_rpn_cls: 0.009838  loss_rpn_loc: 0.06767  time: 0.4745  data_time: 0.0059  lr: 0.00021628  max_mem: 5967M\n"
     ]
    },
    {
     "name": "stderr",
     "output_type": "stream",
     "text": [
      "[\u001b[1m\u001b[37mINFO   \u001b[0m] \u001b[36mevents\u001b[0m:\u001b[36mwrite\u001b[0m:\u001b[36m255\u001b[0m - \u001b[1m\u001b[37m eta: 0:00:29  iter: 539  total_loss: 0.7923  loss_cls: 0.1181  loss_box_reg: 0.3411  loss_mask: 0.261  loss_rpn_cls: 0.01099  loss_rpn_loc: 0.05514  time: 0.4748  data_time: 0.0058  lr: 0.00022461  max_mem: 5967M\u001b[0m\n"
     ]
    },
    {
     "name": "stdout",
     "output_type": "stream",
     "text": [
      "\u001b[32m[12/17 12:59:38 d2.utils.events]: \u001b[0m eta: 0:00:29  iter: 539  total_loss: 0.7923  loss_cls: 0.1181  loss_box_reg: 0.3411  loss_mask: 0.261  loss_rpn_cls: 0.01099  loss_rpn_loc: 0.05514  time: 0.4748  data_time: 0.0058  lr: 0.00022461  max_mem: 5967M\n"
     ]
    },
    {
     "name": "stderr",
     "output_type": "stream",
     "text": [
      "[\u001b[1m\u001b[37mINFO   \u001b[0m] \u001b[36mevents\u001b[0m:\u001b[36mwrite\u001b[0m:\u001b[36m255\u001b[0m - \u001b[1m\u001b[37m eta: 0:00:19  iter: 559  total_loss: 0.8647  loss_cls: 0.117  loss_box_reg: 0.3877  loss_mask: 0.2918  loss_rpn_cls: 0.01149  loss_rpn_loc: 0.06524  time: 0.4752  data_time: 0.0060  lr: 0.00023293  max_mem: 5967M\u001b[0m\n"
     ]
    },
    {
     "name": "stdout",
     "output_type": "stream",
     "text": [
      "\u001b[32m[12/17 12:59:48 d2.utils.events]: \u001b[0m eta: 0:00:19  iter: 559  total_loss: 0.8647  loss_cls: 0.117  loss_box_reg: 0.3877  loss_mask: 0.2918  loss_rpn_cls: 0.01149  loss_rpn_loc: 0.06524  time: 0.4752  data_time: 0.0060  lr: 0.00023293  max_mem: 5967M\n"
     ]
    },
    {
     "name": "stderr",
     "output_type": "stream",
     "text": [
      "[\u001b[1m\u001b[37mINFO   \u001b[0m] \u001b[36mevents\u001b[0m:\u001b[36mwrite\u001b[0m:\u001b[36m255\u001b[0m - \u001b[1m\u001b[37m eta: 0:00:09  iter: 579  total_loss: 0.7718  loss_cls: 0.1145  loss_box_reg: 0.3258  loss_mask: 0.2629  loss_rpn_cls: 0.009674  loss_rpn_loc: 0.0546  time: 0.4755  data_time: 0.0059  lr: 0.00024126  max_mem: 5967M\u001b[0m\n"
     ]
    },
    {
     "name": "stdout",
     "output_type": "stream",
     "text": [
      "\u001b[32m[12/17 12:59:57 d2.utils.events]: \u001b[0m eta: 0:00:09  iter: 579  total_loss: 0.7718  loss_cls: 0.1145  loss_box_reg: 0.3258  loss_mask: 0.2629  loss_rpn_cls: 0.009674  loss_rpn_loc: 0.0546  time: 0.4755  data_time: 0.0059  lr: 0.00024126  max_mem: 5967M\n"
     ]
    },
    {
     "name": "stderr",
     "output_type": "stream",
     "text": [
      "[\u001b[1m\u001b[37mINFO   \u001b[0m] \u001b[36mcheckpoint\u001b[0m:\u001b[36msave\u001b[0m:\u001b[36m124\u001b[0m - \u001b[1m\u001b[37mSaving checkpoint to model/model_final.pth\u001b[0m\n",
      "[\u001b[1m\u001b[37mINFO   \u001b[0m] \u001b[36mevents\u001b[0m:\u001b[36mwrite\u001b[0m:\u001b[36m255\u001b[0m - \u001b[1m\u001b[37m eta: 0:00:00  iter: 599  total_loss: 0.7465  loss_cls: 0.1057  loss_box_reg: 0.3284  loss_mask: 0.2598  loss_rpn_cls: 0.009983  loss_rpn_loc: 0.06772  time: 0.4763  data_time: 0.0057  lr: 0.00024958  max_mem: 5967M\u001b[0m\n"
     ]
    },
    {
     "name": "stdout",
     "output_type": "stream",
     "text": [
      "\u001b[32m[12/17 13:00:09 d2.utils.events]: \u001b[0m eta: 0:00:00  iter: 599  total_loss: 0.7465  loss_cls: 0.1057  loss_box_reg: 0.3284  loss_mask: 0.2598  loss_rpn_cls: 0.009983  loss_rpn_loc: 0.06772  time: 0.4763  data_time: 0.0057  lr: 0.00024958  max_mem: 5967M\n"
     ]
    },
    {
     "name": "stderr",
     "output_type": "stream",
     "text": [
      "[\u001b[1m\u001b[37mINFO   \u001b[0m] \u001b[36mhooks\u001b[0m:\u001b[36mafter_train\u001b[0m:\u001b[36m123\u001b[0m - \u001b[1m\u001b[37mOverall training speed: 598 iterations in 0:04:44 (0.4763 s / it)\u001b[0m\n"
     ]
    },
    {
     "name": "stdout",
     "output_type": "stream",
     "text": [
      "\u001b[32m[12/17 13:00:10 d2.engine.hooks]: \u001b[0mOverall training speed: 598 iterations in 0:04:44 (0.4763 s / it)\n"
     ]
    },
    {
     "name": "stderr",
     "output_type": "stream",
     "text": [
      "[\u001b[1m\u001b[37mINFO   \u001b[0m] \u001b[36mhooks\u001b[0m:\u001b[36mafter_train\u001b[0m:\u001b[36m131\u001b[0m - \u001b[1m\u001b[37mTotal training time: 0:04:49 (0:00:04 on hooks)\u001b[0m\n"
     ]
    },
    {
     "name": "stdout",
     "output_type": "stream",
     "text": [
      "\u001b[32m[12/17 13:00:10 d2.engine.hooks]: \u001b[0mTotal training time: 0:04:49 (0:00:04 on hooks)\n",
      "\u001b[32m[12/17 13:00:10 d2.data.datasets.coco]: \u001b[0mLoaded 28 images in COCO format from coco/annotations/val.json\n"
     ]
    },
    {
     "name": "stderr",
     "output_type": "stream",
     "text": [
      "[\u001b[1m\u001b[37mINFO   \u001b[0m] \u001b[36mlogger\u001b[0m:\u001b[36mlog_first_n\u001b[0m:\u001b[36m172\u001b[0m - \u001b[1m\u001b[37mDistribution of instances among all 3 categories:\n",
      "\u001b[36m|  category  | #instances   |   category    | #instances   |  category  | #instances   |\n",
      "|:----------:|:-------------|:-------------:|:-------------|:----------:|:-------------|\n",
      "|    glue    | 66           | injection_h.. | 45           |  pin_glue  | 9            |\n",
      "|            |              |               |              |            |              |\n",
      "|   total    | 120          |               |              |            |              |\u001b[0m\u001b[0m\n"
     ]
    },
    {
     "name": "stdout",
     "output_type": "stream",
     "text": [
      "\u001b[32m[12/17 13:00:10 d2.data.build]: \u001b[0mDistribution of instances among all 3 categories:\n",
      "\u001b[36m|  category  | #instances   |   category    | #instances   |  category  | #instances   |\n",
      "|:----------:|:-------------|:-------------:|:-------------|:----------:|:-------------|\n",
      "|    glue    | 66           | injection_h.. | 45           |  pin_glue  | 9            |\n",
      "|            |              |               |              |            |              |\n",
      "|   total    | 120          |               |              |            |              |\u001b[0m\n"
     ]
    },
    {
     "name": "stderr",
     "output_type": "stream",
     "text": [
      "[\u001b[1m\u001b[37mINFO   \u001b[0m] \u001b[36mdataset_mapper\u001b[0m:\u001b[36m__init__\u001b[0m:\u001b[36m83\u001b[0m - \u001b[1m\u001b[37m[DatasetMapper] Augmentations used in inference: [ResizeShortestEdge(short_edge_length=(800, 800), max_size=1333, sample_style='choice')]\u001b[0m\n"
     ]
    },
    {
     "name": "stdout",
     "output_type": "stream",
     "text": [
      "\u001b[32m[12/17 13:00:10 d2.data.dataset_mapper]: \u001b[0m[DatasetMapper] Augmentations used in inference: [ResizeShortestEdge(short_edge_length=(800, 800), max_size=1333, sample_style='choice')]\n"
     ]
    },
    {
     "name": "stderr",
     "output_type": "stream",
     "text": [
      "[\u001b[1m\u001b[37mINFO   \u001b[0m] \u001b[36mcommon\u001b[0m:\u001b[36m__init__\u001b[0m:\u001b[36m135\u001b[0m - \u001b[1m\u001b[37mSerializing 28 elements to byte tensors and concatenating them all ...\u001b[0m\n"
     ]
    },
    {
     "name": "stdout",
     "output_type": "stream",
     "text": [
      "\u001b[32m[12/17 13:00:10 d2.data.common]: \u001b[0mSerializing 28 elements to byte tensors and concatenating them all ...\n"
     ]
    },
    {
     "name": "stderr",
     "output_type": "stream",
     "text": [
      "[\u001b[1m\u001b[37mINFO   \u001b[0m] \u001b[36mcommon\u001b[0m:\u001b[36m__init__\u001b[0m:\u001b[36m144\u001b[0m - \u001b[1m\u001b[37mSerialized dataset takes 0.04 MiB\u001b[0m\n"
     ]
    },
    {
     "name": "stdout",
     "output_type": "stream",
     "text": [
      "\u001b[32m[12/17 13:00:10 d2.data.common]: \u001b[0mSerialized dataset takes 0.04 MiB\n"
     ]
    },
    {
     "name": "stderr",
     "output_type": "stream",
     "text": [
      "[\u001b[1m\u001b[33mWARNING\u001b[0m] \u001b[36mdefaults\u001b[0m:\u001b[36mtest\u001b[0m:\u001b[36m602\u001b[0m - \u001b[1m\u001b[33mNo evaluator found. Use `DefaultTrainer.test(evaluators=)`, or implement its `build_evaluator` method.\u001b[0m\n"
     ]
    },
    {
     "name": "stdout",
     "output_type": "stream",
     "text": [
      "\u001b[5m\u001b[31mWARNING\u001b[0m \u001b[32m[12/17 13:00:10 d2.engine.defaults]: \u001b[0mNo evaluator found. Use `DefaultTrainer.test(evaluators=)`, or implement its `build_evaluator` method.\n"
     ]
    }
   ],
   "source": [
    "# %%\n",
    "# 定义模型并训练\n",
    "cfg = get_cfg()\n",
    "# add project-specific config (e.g., TensorMask) here if you're not running a model in detectron2's core library\n",
    "cfg.merge_from_file(model_zoo.get_config_file(\n",
    "    \"COCO-InstanceSegmentation/mask_rcnn_R_101_FPN_3x.yaml\"))\n",
    "# Find a model from detectron2's model zoo. You can use the https://dl.fbaipublicfiles... url as well\n",
    "# cfg.MODEL.WEIGHTS = model_zoo.get_checkpoint_url(\"COCO-InstanceSegmentation/mask_rcnn_R_101_FPN_3x.yaml\")\n",
    "cfg.MODEL.WEIGHTS = os.path.join(\"../weights/model_final_a3ec72.pkl\")\n",
    "# cfg.MODEL.WEIGHTS = os.path.join(args.train_url, \"model_final.pth\")\n",
    "cfg.MODEL.DEVICE = args.device\n",
    "cfg.MODEL.RPN.NMS_THRESH = 0.7\n",
    "cfg.MODEL.ROI_HEADS.NMS_THRESH_TEST = 0.5\n",
    "cfg.MODEL.ROI_HEADS.SCORE_THRESH_TEST = 0.5   # set a custom testing threshold\n",
    "cfg.DATASETS.TRAIN = (\"mydataset_train\",)\n",
    "cfg.DATASETS.TEST = (\"mydataset_val\",)\n",
    "cfg.DATALOADER.NUM_WORKERS = 2\n",
    "cfg.SOLVER.IMS_PER_BATCH = 4\n",
    "cfg.SOLVER.BASE_LR = 0.00025  # pick a good LR\n",
    "# 300 iterations seems good enough for this toy dataset; you will need to train longer for a practical dataset\n",
    "cfg.SOLVER.MAX_ITER = 600\n",
    "cfg.SOLVER.STEPS = []        # do not decay learning rate\n",
    "# faster, and good enough for this toy dataset (default: 512)\n",
    "cfg.MODEL.ROI_HEADS.BATCH_SIZE_PER_IMAGE = 128\n",
    "# only has one class (ballon). (see https://detectron2.readthedocs.io/tutorials/datasets.html#update-the-config-for-new-datasets)\n",
    "cfg.MODEL.ROI_HEADS.NUM_CLASSES = args.num_classes\n",
    "# NOTE: this config means the number of classes, but a few popular unofficial tutorials incorrect uses num_classes+1 here.\n",
    "cfg.OUTPUT_DIR = args.train_url\n",
    "os.makedirs(cfg.OUTPUT_DIR, exist_ok=True)\n",
    "trainer = DefaultTrainer(cfg)\n",
    "trainer.resume_or_load(resume=False)\n",
    "if args.device != 'cpu':\n",
    "    trainer.train()"
   ]
  },
  {
   "cell_type": "code",
   "execution_count": 8,
   "metadata": {
    "id": "1Jy1RYxRQQrO"
   },
   "outputs": [
    {
     "name": "stdout",
     "output_type": "stream",
     "text": [
      "\u001b[32m[12/17 13:03:22 d2.data.datasets.coco]: \u001b[0mLoaded 28 images in COCO format from coco/annotations/val.json\n"
     ]
    },
    {
     "name": "stderr",
     "output_type": "stream",
     "text": [
      "[\u001b[1m\u001b[37mINFO   \u001b[0m] \u001b[36mdataset_mapper\u001b[0m:\u001b[36m__init__\u001b[0m:\u001b[36m83\u001b[0m - \u001b[1m\u001b[37m[DatasetMapper] Augmentations used in inference: [ResizeShortestEdge(short_edge_length=(800, 800), max_size=1333, sample_style='choice')]\u001b[0m\n"
     ]
    },
    {
     "name": "stdout",
     "output_type": "stream",
     "text": [
      "\u001b[32m[12/17 13:03:22 d2.data.dataset_mapper]: \u001b[0m[DatasetMapper] Augmentations used in inference: [ResizeShortestEdge(short_edge_length=(800, 800), max_size=1333, sample_style='choice')]\n"
     ]
    },
    {
     "name": "stderr",
     "output_type": "stream",
     "text": [
      "[\u001b[1m\u001b[37mINFO   \u001b[0m] \u001b[36mcommon\u001b[0m:\u001b[36m__init__\u001b[0m:\u001b[36m135\u001b[0m - \u001b[1m\u001b[37mSerializing 28 elements to byte tensors and concatenating them all ...\u001b[0m\n"
     ]
    },
    {
     "name": "stdout",
     "output_type": "stream",
     "text": [
      "\u001b[32m[12/17 13:03:22 d2.data.common]: \u001b[0mSerializing 28 elements to byte tensors and concatenating them all ...\n"
     ]
    },
    {
     "name": "stderr",
     "output_type": "stream",
     "text": [
      "[\u001b[1m\u001b[37mINFO   \u001b[0m] \u001b[36mcommon\u001b[0m:\u001b[36m__init__\u001b[0m:\u001b[36m144\u001b[0m - \u001b[1m\u001b[37mSerialized dataset takes 0.04 MiB\u001b[0m\n"
     ]
    },
    {
     "name": "stdout",
     "output_type": "stream",
     "text": [
      "\u001b[32m[12/17 13:03:22 d2.data.common]: \u001b[0mSerialized dataset takes 0.04 MiB\n"
     ]
    },
    {
     "name": "stderr",
     "output_type": "stream",
     "text": [
      "[\u001b[1m\u001b[37mINFO   \u001b[0m] \u001b[36mcheckpoint\u001b[0m:\u001b[36mload\u001b[0m:\u001b[36m150\u001b[0m - \u001b[1m\u001b[37m[Checkpointer] Loading from model/model_final.pth ...\u001b[0m\n",
      "[\u001b[1m\u001b[37mINFO   \u001b[0m] \u001b[36mevaluator\u001b[0m:\u001b[36minference_on_dataset\u001b[0m:\u001b[36m128\u001b[0m - \u001b[1m\u001b[37mStart inference on 28 batches\u001b[0m\n"
     ]
    },
    {
     "name": "stdout",
     "output_type": "stream",
     "text": [
      "\u001b[32m[12/17 13:03:23 d2.evaluation.evaluator]: \u001b[0mStart inference on 28 batches\n"
     ]
    },
    {
     "name": "stderr",
     "output_type": "stream",
     "text": [
      "[\u001b[1m\u001b[37mINFO   \u001b[0m] \u001b[36mlogger\u001b[0m:\u001b[36mlog_every_n_seconds\u001b[0m:\u001b[36m205\u001b[0m - \u001b[1m\u001b[37mInference done 11/28. Dataloading: 0.0014 s/iter. Inference: 0.0557 s/iter. Eval: 0.0614 s/iter. Total: 0.1186 s/iter. ETA=0:00:02\u001b[0m\n"
     ]
    },
    {
     "name": "stdout",
     "output_type": "stream",
     "text": [
      "\u001b[32m[12/17 13:03:25 d2.evaluation.evaluator]: \u001b[0mInference done 11/28. Dataloading: 0.0014 s/iter. Inference: 0.0557 s/iter. Eval: 0.0614 s/iter. Total: 0.1186 s/iter. ETA=0:00:02\n"
     ]
    },
    {
     "name": "stderr",
     "output_type": "stream",
     "text": [
      "[\u001b[1m\u001b[37mINFO   \u001b[0m] \u001b[36mevaluator\u001b[0m:\u001b[36minference_on_dataset\u001b[0m:\u001b[36m192\u001b[0m - \u001b[1m\u001b[37mTotal inference time: 0:00:02.751811 (0.119644 s / iter per device, on 1 devices)\u001b[0m\n"
     ]
    },
    {
     "name": "stdout",
     "output_type": "stream",
     "text": [
      "\u001b[32m[12/17 13:03:27 d2.evaluation.evaluator]: \u001b[0mTotal inference time: 0:00:02.751811 (0.119644 s / iter per device, on 1 devices)\n"
     ]
    },
    {
     "name": "stderr",
     "output_type": "stream",
     "text": [
      "[\u001b[1m\u001b[37mINFO   \u001b[0m] \u001b[36mevaluator\u001b[0m:\u001b[36minference_on_dataset\u001b[0m:\u001b[36m198\u001b[0m - \u001b[1m\u001b[37mTotal inference pure compute time: 0:00:01 (0.055805 s / iter per device, on 1 devices)\u001b[0m\n"
     ]
    },
    {
     "name": "stdout",
     "output_type": "stream",
     "text": [
      "\u001b[32m[12/17 13:03:27 d2.evaluation.evaluator]: \u001b[0mTotal inference pure compute time: 0:00:01 (0.055805 s / iter per device, on 1 devices)\n"
     ]
    },
    {
     "name": "stderr",
     "output_type": "stream",
     "text": [
      "[\u001b[1m\u001b[37mINFO   \u001b[0m] \u001b[36mcoco_evaluation\u001b[0m:\u001b[36m_eval_predictions\u001b[0m:\u001b[36m214\u001b[0m - \u001b[1m\u001b[37mPreparing results for COCO format ...\u001b[0m\n"
     ]
    },
    {
     "name": "stdout",
     "output_type": "stream",
     "text": [
      "\u001b[32m[12/17 13:03:27 d2.evaluation.coco_evaluation]: \u001b[0mPreparing results for COCO format ...\n"
     ]
    },
    {
     "name": "stderr",
     "output_type": "stream",
     "text": [
      "[\u001b[1m\u001b[37mINFO   \u001b[0m] \u001b[36mcoco_evaluation\u001b[0m:\u001b[36m_eval_predictions\u001b[0m:\u001b[36m237\u001b[0m - \u001b[1m\u001b[37mSaving results to model/coco_instances_results.json\u001b[0m\n"
     ]
    },
    {
     "name": "stdout",
     "output_type": "stream",
     "text": [
      "\u001b[32m[12/17 13:03:27 d2.evaluation.coco_evaluation]: \u001b[0mSaving results to model/coco_instances_results.json\n"
     ]
    },
    {
     "name": "stderr",
     "output_type": "stream",
     "text": [
      "[\u001b[1m\u001b[37mINFO   \u001b[0m] \u001b[36mcoco_evaluation\u001b[0m:\u001b[36m_eval_predictions\u001b[0m:\u001b[36m246\u001b[0m - \u001b[1m\u001b[37mEvaluating predictions with unofficial COCO API...\u001b[0m\n"
     ]
    },
    {
     "name": "stdout",
     "output_type": "stream",
     "text": [
      "\u001b[32m[12/17 13:03:27 d2.evaluation.coco_evaluation]: \u001b[0mEvaluating predictions with unofficial COCO API...\n",
      "Loading and preparing results...\n",
      "DONE (t=0.00s)\n",
      "creating index...\n",
      "index created!\n",
      "\u001b[32m[12/17 13:03:27 d2.evaluation.fast_eval_api]: \u001b[0mEvaluate annotation type *bbox*\n",
      "\u001b[32m[12/17 13:03:27 d2.evaluation.fast_eval_api]: \u001b[0mCOCOeval_opt.evaluate() finished in 0.00 seconds.\n",
      "\u001b[32m[12/17 13:03:27 d2.evaluation.fast_eval_api]: \u001b[0mAccumulating evaluation results...\n",
      "\u001b[32m[12/17 13:03:27 d2.evaluation.fast_eval_api]: \u001b[0mCOCOeval_opt.accumulate() finished in 0.00 seconds.\n"
     ]
    },
    {
     "name": "stderr",
     "output_type": "stream",
     "text": [
      "[\u001b[1m\u001b[37mINFO   \u001b[0m] \u001b[36mcoco_evaluation\u001b[0m:\u001b[36m_derive_coco_results\u001b[0m:\u001b[36m340\u001b[0m - \u001b[1m\u001b[37mEvaluation results for bbox: \n",
      "|   AP   |  AP50  |  AP75  |  APs   |  APm   |  APl   |\n",
      "|:------:|:------:|:------:|:------:|:------:|:------:|\n",
      "| 36.004 | 59.382 | 35.144 | 23.877 | 36.906 | 21.287 |\u001b[0m\n"
     ]
    },
    {
     "name": "stdout",
     "output_type": "stream",
     "text": [
      " Average Precision  (AP) @[ IoU=0.50:0.95 | area=   all | maxDets=100 ] = 0.360\n",
      " Average Precision  (AP) @[ IoU=0.50      | area=   all | maxDets=100 ] = 0.594\n",
      " Average Precision  (AP) @[ IoU=0.75      | area=   all | maxDets=100 ] = 0.351\n",
      " Average Precision  (AP) @[ IoU=0.50:0.95 | area= small | maxDets=100 ] = 0.239\n",
      " Average Precision  (AP) @[ IoU=0.50:0.95 | area=medium | maxDets=100 ] = 0.369\n",
      " Average Precision  (AP) @[ IoU=0.50:0.95 | area= large | maxDets=100 ] = 0.213\n",
      " Average Recall     (AR) @[ IoU=0.50:0.95 | area=   all | maxDets=  1 ] = 0.221\n",
      " Average Recall     (AR) @[ IoU=0.50:0.95 | area=   all | maxDets= 10 ] = 0.436\n",
      " Average Recall     (AR) @[ IoU=0.50:0.95 | area=   all | maxDets=100 ] = 0.438\n",
      " Average Recall     (AR) @[ IoU=0.50:0.95 | area= small | maxDets=100 ] = 0.319\n",
      " Average Recall     (AR) @[ IoU=0.50:0.95 | area=medium | maxDets=100 ] = 0.439\n",
      " Average Recall     (AR) @[ IoU=0.50:0.95 | area= large | maxDets=100 ] = 0.263\n",
      "\u001b[32m[12/17 13:03:27 d2.evaluation.coco_evaluation]: \u001b[0mEvaluation results for bbox: \n",
      "|   AP   |  AP50  |  AP75  |  APs   |  APm   |  APl   |\n",
      "|:------:|:------:|:------:|:------:|:------:|:------:|\n",
      "| 36.004 | 59.382 | 35.144 | 23.877 | 36.906 | 21.287 |\n"
     ]
    },
    {
     "name": "stderr",
     "output_type": "stream",
     "text": [
      "[\u001b[1m\u001b[37mINFO   \u001b[0m] \u001b[36mcoco_evaluation\u001b[0m:\u001b[36m_derive_coco_results\u001b[0m:\u001b[36m374\u001b[0m - \u001b[1m\u001b[37mPer-category bbox AP: \n",
      "| category   | AP    | category       | AP     | category   | AP     |\n",
      "|:-----------|:------|:---------------|:-------|:-----------|:-------|\n",
      "| glue       | 4.149 | injection_hole | 72.797 | pin_glue   | 31.065 |\u001b[0m\n"
     ]
    },
    {
     "name": "stdout",
     "output_type": "stream",
     "text": [
      "\u001b[32m[12/17 13:03:27 d2.evaluation.coco_evaluation]: \u001b[0mPer-category bbox AP: \n",
      "| category   | AP    | category       | AP     | category   | AP     |\n",
      "|:-----------|:------|:---------------|:-------|:-----------|:-------|\n",
      "| glue       | 4.149 | injection_hole | 72.797 | pin_glue   | 31.065 |\n",
      "Loading and preparing results...\n",
      "DONE (t=0.00s)\n",
      "creating index...\n",
      "index created!\n",
      "\u001b[32m[12/17 13:03:27 d2.evaluation.fast_eval_api]: \u001b[0mEvaluate annotation type *segm*\n",
      "\u001b[32m[12/17 13:03:27 d2.evaluation.fast_eval_api]: \u001b[0mCOCOeval_opt.evaluate() finished in 0.01 seconds.\n",
      "\u001b[32m[12/17 13:03:27 d2.evaluation.fast_eval_api]: \u001b[0mAccumulating evaluation results...\n",
      "\u001b[32m[12/17 13:03:27 d2.evaluation.fast_eval_api]: \u001b[0mCOCOeval_opt.accumulate() finished in 0.00 seconds.\n"
     ]
    },
    {
     "name": "stderr",
     "output_type": "stream",
     "text": [
      "[\u001b[1m\u001b[37mINFO   \u001b[0m] \u001b[36mcoco_evaluation\u001b[0m:\u001b[36m_derive_coco_results\u001b[0m:\u001b[36m340\u001b[0m - \u001b[1m\u001b[37mEvaluation results for segm: \n",
      "|   AP   |  AP50  |  AP75  |  APs   |  APm   |  APl   |\n",
      "|:------:|:------:|:------:|:------:|:------:|:------:|\n",
      "| 36.402 | 59.185 | 40.274 | 18.832 | 37.549 | 19.307 |\u001b[0m\n"
     ]
    },
    {
     "name": "stdout",
     "output_type": "stream",
     "text": [
      " Average Precision  (AP) @[ IoU=0.50:0.95 | area=   all | maxDets=100 ] = 0.364\n",
      " Average Precision  (AP) @[ IoU=0.50      | area=   all | maxDets=100 ] = 0.592\n",
      " Average Precision  (AP) @[ IoU=0.75      | area=   all | maxDets=100 ] = 0.403\n",
      " Average Precision  (AP) @[ IoU=0.50:0.95 | area= small | maxDets=100 ] = 0.188\n",
      " Average Precision  (AP) @[ IoU=0.50:0.95 | area=medium | maxDets=100 ] = 0.375\n",
      " Average Precision  (AP) @[ IoU=0.50:0.95 | area= large | maxDets=100 ] = 0.193\n",
      " Average Recall     (AR) @[ IoU=0.50:0.95 | area=   all | maxDets=  1 ] = 0.231\n",
      " Average Recall     (AR) @[ IoU=0.50:0.95 | area=   all | maxDets= 10 ] = 0.436\n",
      " Average Recall     (AR) @[ IoU=0.50:0.95 | area=   all | maxDets=100 ] = 0.439\n",
      " Average Recall     (AR) @[ IoU=0.50:0.95 | area= small | maxDets=100 ] = 0.282\n",
      " Average Recall     (AR) @[ IoU=0.50:0.95 | area=medium | maxDets=100 ] = 0.447\n",
      " Average Recall     (AR) @[ IoU=0.50:0.95 | area= large | maxDets=100 ] = 0.200\n",
      "\u001b[32m[12/17 13:03:27 d2.evaluation.coco_evaluation]: \u001b[0mEvaluation results for segm: \n",
      "|   AP   |  AP50  |  AP75  |  APs   |  APm   |  APl   |\n",
      "|:------:|:------:|:------:|:------:|:------:|:------:|\n",
      "| 36.402 | 59.185 | 40.274 | 18.832 | 37.549 | 19.307 |\n"
     ]
    },
    {
     "name": "stderr",
     "output_type": "stream",
     "text": [
      "[\u001b[1m\u001b[37mINFO   \u001b[0m] \u001b[36mcoco_evaluation\u001b[0m:\u001b[36m_derive_coco_results\u001b[0m:\u001b[36m374\u001b[0m - \u001b[1m\u001b[37mPer-category segm AP: \n",
      "| category   | AP    | category       | AP     | category   | AP     |\n",
      "|:-----------|:------|:---------------|:-------|:-----------|:-------|\n",
      "| glue       | 3.571 | injection_hole | 68.326 | pin_glue   | 37.308 |\u001b[0m\n"
     ]
    },
    {
     "name": "stdout",
     "output_type": "stream",
     "text": [
      "\u001b[32m[12/17 13:03:27 d2.evaluation.coco_evaluation]: \u001b[0mPer-category segm AP: \n",
      "| category   | AP    | category       | AP     | category   | AP     |\n",
      "|:-----------|:------|:---------------|:-------|:-----------|:-------|\n",
      "| glue       | 3.571 | injection_hole | 68.326 | pin_glue   | 37.308 |\n",
      "OrderedDict([('bbox', {'AP': 36.003635137949885, 'AP50': 59.381646497983134, 'AP75': 35.14386557703389, 'APs': 23.877427350952964, 'APm': 36.905761766750004, 'APl': 21.287128712871286, 'AP-glue': 4.149182775420399, 'AP-injection_hole': 72.7967661427797, 'AP-pin_glue': 31.064956495649565}), ('segm', {'AP': 36.4017534689977, 'AP50': 59.18454345434543, 'AP75': 40.27424170988528, 'APs': 18.832006552303582, 'APm': 37.549399304867876, 'APl': 19.306930693069308, 'AP-glue': 3.570623133741946, 'AP-injection_hole': 68.32620643016683, 'AP-pin_glue': 37.30843084308431})])\n"
     ]
    }
   ],
   "source": [
    "# %%\n",
    "# 验证集验证\n",
    "\n",
    "# Inference should use the config with parameters that are used in training\n",
    "# cfg now already contains everything we've set previously. We changed it a little bit for inference:\n",
    "# path to the model we just trained\n",
    "# 加载训练出来的权重\n",
    "cfg.MODEL.WEIGHTS = os.path.join(args.train_url, \"model_final.pth\")\n",
    "# 构建评估器\n",
    "evaluator = COCOEvaluator(\"mydataset_val\", output_dir=cfg.OUTPUT_DIR)\n",
    "val_loader = build_detection_test_loader(cfg, \"mydataset_val\")\n",
    "predictor = DefaultPredictor(cfg)\n",
    "# 输出模型在验证集上的性能指标\n",
    "print(inference_on_dataset(predictor.model, val_loader, evaluator))\n",
    "# another equivalent way to evaluate the model is to use `trainer.test`\n",
    "#model = trainer.build_model(cfg)\n",
    "#metrics = trainer.test(cfg, model, evaluator)"
   ]
  },
  {
   "cell_type": "code",
   "execution_count": 7,
   "metadata": {
    "id": "0QPr4sPNPR4X"
   },
   "outputs": [
    {
     "ename": "NameError",
     "evalue": "name 'VisualizationDemo' is not defined",
     "output_type": "error",
     "traceback": [
      "\u001b[0;31m---------------------------------------------------------------------------\u001b[0m",
      "\u001b[0;31mNameError\u001b[0m                                 Traceback (most recent call last)",
      "\u001b[0;32m<ipython-input-7-cf1d7d92e883>\u001b[0m in \u001b[0;36m<module>\u001b[0;34m\u001b[0m\n\u001b[1;32m      4\u001b[0m \u001b[0;31m# 在测试集上测试，并保存图片\u001b[0m\u001b[0;34m\u001b[0m\u001b[0;34m\u001b[0m\u001b[0;34m\u001b[0m\u001b[0m\n\u001b[1;32m      5\u001b[0m \u001b[0;32mimport\u001b[0m \u001b[0mos\u001b[0m\u001b[0;34m\u001b[0m\u001b[0;34m\u001b[0m\u001b[0m\n\u001b[0;32m----> 6\u001b[0;31m \u001b[0mdemo\u001b[0m \u001b[0;34m=\u001b[0m \u001b[0mVisualizationDemo\u001b[0m\u001b[0;34m(\u001b[0m\u001b[0mcfg\u001b[0m\u001b[0;34m)\u001b[0m\u001b[0;34m\u001b[0m\u001b[0;34m\u001b[0m\u001b[0m\n\u001b[0m\u001b[1;32m      7\u001b[0m \u001b[0;31m#!rm model/*.jpg\u001b[0m\u001b[0;34m\u001b[0m\u001b[0;34m\u001b[0m\u001b[0;34m\u001b[0m\u001b[0m\n\u001b[1;32m      8\u001b[0m \u001b[0;31m#!mkdir model\u001b[0m\u001b[0;34m\u001b[0m\u001b[0;34m\u001b[0m\u001b[0;34m\u001b[0m\u001b[0m\n",
      "\u001b[0;31mNameError\u001b[0m: name 'VisualizationDemo' is not defined"
     ]
    }
   ],
   "source": [
    "#!rm model/*.jpg\n",
    "#!mkdir model\n",
    "\n",
    "# 在测试集上测试，并保存图片\n",
    "import os\n",
    "demo = VisualizationDemo(cfg)\n",
    "#!rm model/*.jpg\n",
    "#!mkdir model\n",
    "filePath = os.path.join(args.data_url, args.dataset, \"test\")\n",
    "#list_data = os.listdir(filePath)\n",
    "list_data = [] \n",
    "for filename in list_data:\n",
    "    if filename.split('.')[1] == 'json':\n",
    "        continue\n",
    "    im = cv2.imread(os.path.join(filePath, filename))\n",
    "    predictions, visualized_output = demo.run_on_image(im)\n",
    "    visualized_output.save(os.path.join(args.train_url, filename))\n"
   ]
  }
 ],
 "metadata": {
  "accelerator": "GPU",
  "colab": {
   "collapsed_sections": [],
   "name": "maskRCNN_glue_pin_inclined_v0.2.ipynb",
   "provenance": []
  },
  "interpreter": {
   "hash": "bd7d9e76bf3f8cb7ec8ecf65b13c7d9834da455c852c3f050893a48c10a1a2da"
  },
  "kernelspec": {
   "display_name": "Python 3",
   "language": "python",
   "name": "python3"
  },
  "language_info": {
   "codemirror_mode": {
    "name": "ipython",
    "version": 3
   },
   "file_extension": ".py",
   "mimetype": "text/x-python",
   "name": "python",
   "nbconvert_exporter": "python",
   "pygments_lexer": "ipython3",
   "version": "3.8.8"
  }
 },
 "nbformat": 4,
 "nbformat_minor": 4
}
